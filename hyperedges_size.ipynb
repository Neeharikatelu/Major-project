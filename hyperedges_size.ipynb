{
 "cells": [
  {
   "cell_type": "markdown",
   "metadata": {},
   "source": [
    "## 1-30 Hyperedges Sizes Data\n"
   ]
  },
  {
   "cell_type": "code",
   "execution_count": 1,
   "metadata": {},
   "outputs": [
    {
     "name": "stdout",
     "output_type": "stream",
     "text": [
      "Extraction completed for hyperedges of size 1. Data saved in C:\\Users\\Neeharika Telu\\Dropbox\\Mini_clean\\hyperedges_by_size\\1_hyperedges_data.csv\n",
      "Extraction completed for hyperedges of size 2. Data saved in C:\\Users\\Neeharika Telu\\Dropbox\\Mini_clean\\hyperedges_by_size\\2_hyperedges_data.csv\n",
      "Extraction completed for hyperedges of size 3. Data saved in C:\\Users\\Neeharika Telu\\Dropbox\\Mini_clean\\hyperedges_by_size\\3_hyperedges_data.csv\n",
      "Extraction completed for hyperedges of size 4. Data saved in C:\\Users\\Neeharika Telu\\Dropbox\\Mini_clean\\hyperedges_by_size\\4_hyperedges_data.csv\n",
      "Extraction completed for hyperedges of size 5. Data saved in C:\\Users\\Neeharika Telu\\Dropbox\\Mini_clean\\hyperedges_by_size\\5_hyperedges_data.csv\n",
      "Extraction completed for hyperedges of size 6. Data saved in C:\\Users\\Neeharika Telu\\Dropbox\\Mini_clean\\hyperedges_by_size\\6_hyperedges_data.csv\n",
      "Extraction completed for hyperedges of size 7. Data saved in C:\\Users\\Neeharika Telu\\Dropbox\\Mini_clean\\hyperedges_by_size\\7_hyperedges_data.csv\n",
      "Extraction completed for hyperedges of size 8. Data saved in C:\\Users\\Neeharika Telu\\Dropbox\\Mini_clean\\hyperedges_by_size\\8_hyperedges_data.csv\n",
      "Extraction completed for hyperedges of size 9. Data saved in C:\\Users\\Neeharika Telu\\Dropbox\\Mini_clean\\hyperedges_by_size\\9_hyperedges_data.csv\n",
      "Extraction completed for hyperedges of size 10. Data saved in C:\\Users\\Neeharika Telu\\Dropbox\\Mini_clean\\hyperedges_by_size\\10_hyperedges_data.csv\n",
      "Extraction completed for hyperedges of size 11. Data saved in C:\\Users\\Neeharika Telu\\Dropbox\\Mini_clean\\hyperedges_by_size\\11_hyperedges_data.csv\n",
      "Extraction completed for hyperedges of size 12. Data saved in C:\\Users\\Neeharika Telu\\Dropbox\\Mini_clean\\hyperedges_by_size\\12_hyperedges_data.csv\n",
      "Extraction completed for hyperedges of size 13. Data saved in C:\\Users\\Neeharika Telu\\Dropbox\\Mini_clean\\hyperedges_by_size\\13_hyperedges_data.csv\n",
      "Extraction completed for hyperedges of size 14. Data saved in C:\\Users\\Neeharika Telu\\Dropbox\\Mini_clean\\hyperedges_by_size\\14_hyperedges_data.csv\n",
      "Extraction completed for hyperedges of size 15. Data saved in C:\\Users\\Neeharika Telu\\Dropbox\\Mini_clean\\hyperedges_by_size\\15_hyperedges_data.csv\n",
      "Extraction completed for hyperedges of size 16. Data saved in C:\\Users\\Neeharika Telu\\Dropbox\\Mini_clean\\hyperedges_by_size\\16_hyperedges_data.csv\n",
      "Extraction completed for hyperedges of size 17. Data saved in C:\\Users\\Neeharika Telu\\Dropbox\\Mini_clean\\hyperedges_by_size\\17_hyperedges_data.csv\n",
      "Extraction completed for hyperedges of size 18. Data saved in C:\\Users\\Neeharika Telu\\Dropbox\\Mini_clean\\hyperedges_by_size\\18_hyperedges_data.csv\n",
      "Extraction completed for hyperedges of size 19. Data saved in C:\\Users\\Neeharika Telu\\Dropbox\\Mini_clean\\hyperedges_by_size\\19_hyperedges_data.csv\n",
      "Extraction completed for hyperedges of size 20. Data saved in C:\\Users\\Neeharika Telu\\Dropbox\\Mini_clean\\hyperedges_by_size\\20_hyperedges_data.csv\n",
      "Extraction completed for hyperedges of size 21. Data saved in C:\\Users\\Neeharika Telu\\Dropbox\\Mini_clean\\hyperedges_by_size\\21_hyperedges_data.csv\n",
      "Extraction completed for hyperedges of size 22. Data saved in C:\\Users\\Neeharika Telu\\Dropbox\\Mini_clean\\hyperedges_by_size\\22_hyperedges_data.csv\n",
      "Extraction completed for hyperedges of size 23. Data saved in C:\\Users\\Neeharika Telu\\Dropbox\\Mini_clean\\hyperedges_by_size\\23_hyperedges_data.csv\n",
      "Extraction completed for hyperedges of size 24. Data saved in C:\\Users\\Neeharika Telu\\Dropbox\\Mini_clean\\hyperedges_by_size\\24_hyperedges_data.csv\n",
      "Extraction completed for hyperedges of size 25. Data saved in C:\\Users\\Neeharika Telu\\Dropbox\\Mini_clean\\hyperedges_by_size\\25_hyperedges_data.csv\n",
      "Extraction completed for hyperedges of size 26. Data saved in C:\\Users\\Neeharika Telu\\Dropbox\\Mini_clean\\hyperedges_by_size\\26_hyperedges_data.csv\n",
      "Extraction completed for hyperedges of size 27. Data saved in C:\\Users\\Neeharika Telu\\Dropbox\\Mini_clean\\hyperedges_by_size\\27_hyperedges_data.csv\n",
      "Extraction completed for hyperedges of size 28. Data saved in C:\\Users\\Neeharika Telu\\Dropbox\\Mini_clean\\hyperedges_by_size\\28_hyperedges_data.csv\n",
      "Extraction completed for hyperedges of size 29. Data saved in C:\\Users\\Neeharika Telu\\Dropbox\\Mini_clean\\hyperedges_by_size\\29_hyperedges_data.csv\n",
      "Extraction completed for hyperedges of size 30. Data saved in C:\\Users\\Neeharika Telu\\Dropbox\\Mini_clean\\hyperedges_by_size\\30_hyperedges_data.csv\n",
      "All files generated successfully.\n"
     ]
    }
   ],
   "source": [
    "import os\n",
    "import json\n",
    "import csv\n",
    "\n",
    "# Define the input folder path\n",
    "input_folder = r\"C:\\Users\\Neeharika Telu\\Dropbox\\Mini_clean\\hypergraph_everyday_Null_clean\"\n",
    "output_folder = r\"C:\\Users\\Neeharika Telu\\Dropbox\\Mini_clean\\hyperedges_by_size\"\n",
    "\n",
    "# Ensure the output folder exists\n",
    "os.makedirs(output_folder, exist_ok=True)\n",
    "\n",
    "# Iterate through each hyperedge size (1 to 30)\n",
    "for size in range(1, 31):  \n",
    "    output_file = os.path.join(output_folder, f\"{size}_hyperedges_data.csv\")\n",
    "\n",
    "    # Open the CSV file for the current hyperedge size\n",
    "    with open(output_file, mode='w', newline='') as csvfile:\n",
    "        writer = csv.writer(csvfile)\n",
    "        writer.writerow([\"Date\", \"Token\", \"Nodes\"])\n",
    "\n",
    "        # Process each JSON file in the folder\n",
    "        for filename in sorted(os.listdir(input_folder)):\n",
    "            if filename.endswith(\".json\"):  # Ensure it's a JSON file\n",
    "                file_path = os.path.join(input_folder, filename)\n",
    "\n",
    "                # Extract date from filename (assuming format: hypergraph_YYYY-MM-DD.json)\n",
    "                date = filename.replace(\"hypergraph_\", \"\").replace(\".json\", \"\")\n",
    "\n",
    "                try:\n",
    "                    # Read JSON file\n",
    "                    with open(file_path, 'r') as file:\n",
    "                        data = json.load(file)\n",
    "\n",
    "                    # Extract hyperedges of the current size\n",
    "                    for token, nodes in data.items():\n",
    "                        if isinstance(nodes, list) and len(nodes) == size:\n",
    "                            writer.writerow([date, token, json.dumps(nodes)])\n",
    "\n",
    "                except Exception as e:\n",
    "                    print(f\"Error processing file {filename}: {e}\")\n",
    "\n",
    "    print(f\"Extraction completed for hyperedges of size {size}. Data saved in {output_file}\")\n",
    "\n",
    "print(\"All files generated successfully.\")\n"
   ]
  },
  {
   "cell_type": "markdown",
   "metadata": {},
   "source": [
    "### Hyperedges Occurences "
   ]
  },
  {
   "cell_type": "code",
   "execution_count": 2,
   "metadata": {},
   "outputs": [
    {
     "name": "stdout",
     "output_type": "stream",
     "text": [
      "Processing complete for 1-hyperedges. Data saved in C:\\Users\\Neeharika Telu\\Dropbox\\Mini_clean\\hyperedges_occurrences_by_size\\1_hyperedges_occurrences.csv\n",
      "Processing complete for 2-hyperedges. Data saved in C:\\Users\\Neeharika Telu\\Dropbox\\Mini_clean\\hyperedges_occurrences_by_size\\2_hyperedges_occurrences.csv\n",
      "Processing complete for 3-hyperedges. Data saved in C:\\Users\\Neeharika Telu\\Dropbox\\Mini_clean\\hyperedges_occurrences_by_size\\3_hyperedges_occurrences.csv\n",
      "Processing complete for 4-hyperedges. Data saved in C:\\Users\\Neeharika Telu\\Dropbox\\Mini_clean\\hyperedges_occurrences_by_size\\4_hyperedges_occurrences.csv\n",
      "Processing complete for 5-hyperedges. Data saved in C:\\Users\\Neeharika Telu\\Dropbox\\Mini_clean\\hyperedges_occurrences_by_size\\5_hyperedges_occurrences.csv\n",
      "Processing complete for 6-hyperedges. Data saved in C:\\Users\\Neeharika Telu\\Dropbox\\Mini_clean\\hyperedges_occurrences_by_size\\6_hyperedges_occurrences.csv\n",
      "Processing complete for 7-hyperedges. Data saved in C:\\Users\\Neeharika Telu\\Dropbox\\Mini_clean\\hyperedges_occurrences_by_size\\7_hyperedges_occurrences.csv\n",
      "Processing complete for 8-hyperedges. Data saved in C:\\Users\\Neeharika Telu\\Dropbox\\Mini_clean\\hyperedges_occurrences_by_size\\8_hyperedges_occurrences.csv\n",
      "Processing complete for 9-hyperedges. Data saved in C:\\Users\\Neeharika Telu\\Dropbox\\Mini_clean\\hyperedges_occurrences_by_size\\9_hyperedges_occurrences.csv\n",
      "Processing complete for 10-hyperedges. Data saved in C:\\Users\\Neeharika Telu\\Dropbox\\Mini_clean\\hyperedges_occurrences_by_size\\10_hyperedges_occurrences.csv\n",
      "Processing complete for 11-hyperedges. Data saved in C:\\Users\\Neeharika Telu\\Dropbox\\Mini_clean\\hyperedges_occurrences_by_size\\11_hyperedges_occurrences.csv\n",
      "Processing complete for 12-hyperedges. Data saved in C:\\Users\\Neeharika Telu\\Dropbox\\Mini_clean\\hyperedges_occurrences_by_size\\12_hyperedges_occurrences.csv\n",
      "Processing complete for 13-hyperedges. Data saved in C:\\Users\\Neeharika Telu\\Dropbox\\Mini_clean\\hyperedges_occurrences_by_size\\13_hyperedges_occurrences.csv\n",
      "Processing complete for 14-hyperedges. Data saved in C:\\Users\\Neeharika Telu\\Dropbox\\Mini_clean\\hyperedges_occurrences_by_size\\14_hyperedges_occurrences.csv\n",
      "Processing complete for 15-hyperedges. Data saved in C:\\Users\\Neeharika Telu\\Dropbox\\Mini_clean\\hyperedges_occurrences_by_size\\15_hyperedges_occurrences.csv\n",
      "Processing complete for 16-hyperedges. Data saved in C:\\Users\\Neeharika Telu\\Dropbox\\Mini_clean\\hyperedges_occurrences_by_size\\16_hyperedges_occurrences.csv\n",
      "Processing complete for 17-hyperedges. Data saved in C:\\Users\\Neeharika Telu\\Dropbox\\Mini_clean\\hyperedges_occurrences_by_size\\17_hyperedges_occurrences.csv\n",
      "Processing complete for 18-hyperedges. Data saved in C:\\Users\\Neeharika Telu\\Dropbox\\Mini_clean\\hyperedges_occurrences_by_size\\18_hyperedges_occurrences.csv\n",
      "Processing complete for 19-hyperedges. Data saved in C:\\Users\\Neeharika Telu\\Dropbox\\Mini_clean\\hyperedges_occurrences_by_size\\19_hyperedges_occurrences.csv\n",
      "Processing complete for 20-hyperedges. Data saved in C:\\Users\\Neeharika Telu\\Dropbox\\Mini_clean\\hyperedges_occurrences_by_size\\20_hyperedges_occurrences.csv\n",
      "Processing complete for 21-hyperedges. Data saved in C:\\Users\\Neeharika Telu\\Dropbox\\Mini_clean\\hyperedges_occurrences_by_size\\21_hyperedges_occurrences.csv\n",
      "Processing complete for 22-hyperedges. Data saved in C:\\Users\\Neeharika Telu\\Dropbox\\Mini_clean\\hyperedges_occurrences_by_size\\22_hyperedges_occurrences.csv\n",
      "Processing complete for 23-hyperedges. Data saved in C:\\Users\\Neeharika Telu\\Dropbox\\Mini_clean\\hyperedges_occurrences_by_size\\23_hyperedges_occurrences.csv\n",
      "Processing complete for 24-hyperedges. Data saved in C:\\Users\\Neeharika Telu\\Dropbox\\Mini_clean\\hyperedges_occurrences_by_size\\24_hyperedges_occurrences.csv\n",
      "Processing complete for 25-hyperedges. Data saved in C:\\Users\\Neeharika Telu\\Dropbox\\Mini_clean\\hyperedges_occurrences_by_size\\25_hyperedges_occurrences.csv\n",
      "Processing complete for 26-hyperedges. Data saved in C:\\Users\\Neeharika Telu\\Dropbox\\Mini_clean\\hyperedges_occurrences_by_size\\26_hyperedges_occurrences.csv\n",
      "Processing complete for 27-hyperedges. Data saved in C:\\Users\\Neeharika Telu\\Dropbox\\Mini_clean\\hyperedges_occurrences_by_size\\27_hyperedges_occurrences.csv\n",
      "Processing complete for 28-hyperedges. Data saved in C:\\Users\\Neeharika Telu\\Dropbox\\Mini_clean\\hyperedges_occurrences_by_size\\28_hyperedges_occurrences.csv\n",
      "Processing complete for 29-hyperedges. Data saved in C:\\Users\\Neeharika Telu\\Dropbox\\Mini_clean\\hyperedges_occurrences_by_size\\29_hyperedges_occurrences.csv\n",
      "Processing complete for 30-hyperedges. Data saved in C:\\Users\\Neeharika Telu\\Dropbox\\Mini_clean\\hyperedges_occurrences_by_size\\30_hyperedges_occurrences.csv\n",
      "All files generated successfully.\n"
     ]
    }
   ],
   "source": [
    "import os\n",
    "import csv\n",
    "from collections import defaultdict\n",
    "\n",
    "# Define input and output directories\n",
    "input_folder = r\"C:\\Users\\Neeharika Telu\\Dropbox\\Mini_clean\\hyperedges_by_size\"\n",
    "output_folder = r\"C:\\Users\\Neeharika Telu\\Dropbox\\Mini_clean\\hyperedges_occurrences_by_size\"\n",
    "\n",
    "# Ensure the output directory exists\n",
    "os.makedirs(output_folder, exist_ok=True)\n",
    "\n",
    "# Iterate through hyperedge sizes from 1 to 30\n",
    "for size in range(1, 31):\n",
    "    input_file = os.path.join(input_folder, f\"{size}_hyperedges_data.csv\")\n",
    "    output_file = os.path.join(output_folder, f\"{size}_hyperedges_occurrences.csv\")\n",
    "\n",
    "    # Dictionary to store occurrences\n",
    "    hyperedge_dict = defaultdict(list)\n",
    "\n",
    "    # Check if input file exists before processing\n",
    "    if os.path.exists(input_file):\n",
    "        with open(input_file, \"r\") as infile:\n",
    "            reader = csv.reader(infile)\n",
    "            header = next(reader)  # Read header\n",
    "            \n",
    "            for row in reader:\n",
    "                date = row[0]\n",
    "                token = row[1]\n",
    "                nodes = row[2]\n",
    "                \n",
    "                # Store date occurrences per (token, nodes)\n",
    "                hyperedge_dict[(token, nodes)].append(date)\n",
    "\n",
    "        # Write output file\n",
    "        with open(output_file, \"w\", newline=\"\") as outfile:\n",
    "            writer = csv.writer(outfile)\n",
    "            writer.writerow([\"Token\", \"Nodes\", \"Dates\"])\n",
    "            \n",
    "            for (token, nodes), dates in hyperedge_dict.items():\n",
    "                writer.writerow([token, nodes, \", \".join(dates)])\n",
    "\n",
    "        print(f\"Processing complete for {size}-hyperedges. Data saved in {output_file}\")\n",
    "\n",
    "print(\"All files generated successfully.\")\n"
   ]
  },
  {
   "cell_type": "markdown",
   "metadata": {},
   "source": [
    "## Repeated Hyperedegs"
   ]
  },
  {
   "cell_type": "code",
   "execution_count": 3,
   "metadata": {},
   "outputs": [
    {
     "name": "stdout",
     "output_type": "stream",
     "text": [
      "Processing complete for 1-hyperedges. Data saved in C:\\Users\\Neeharika Telu\\Dropbox\\Mini_clean\\repeated_hyperedges_by_size\\1_hyperedges_repeated_tokens.csv\n",
      "Processing complete for 2-hyperedges. Data saved in C:\\Users\\Neeharika Telu\\Dropbox\\Mini_clean\\repeated_hyperedges_by_size\\2_hyperedges_repeated_tokens.csv\n",
      "Processing complete for 3-hyperedges. Data saved in C:\\Users\\Neeharika Telu\\Dropbox\\Mini_clean\\repeated_hyperedges_by_size\\3_hyperedges_repeated_tokens.csv\n",
      "Processing complete for 4-hyperedges. Data saved in C:\\Users\\Neeharika Telu\\Dropbox\\Mini_clean\\repeated_hyperedges_by_size\\4_hyperedges_repeated_tokens.csv\n",
      "Processing complete for 5-hyperedges. Data saved in C:\\Users\\Neeharika Telu\\Dropbox\\Mini_clean\\repeated_hyperedges_by_size\\5_hyperedges_repeated_tokens.csv\n",
      "Processing complete for 6-hyperedges. Data saved in C:\\Users\\Neeharika Telu\\Dropbox\\Mini_clean\\repeated_hyperedges_by_size\\6_hyperedges_repeated_tokens.csv\n",
      "Processing complete for 7-hyperedges. Data saved in C:\\Users\\Neeharika Telu\\Dropbox\\Mini_clean\\repeated_hyperedges_by_size\\7_hyperedges_repeated_tokens.csv\n",
      "Processing complete for 8-hyperedges. Data saved in C:\\Users\\Neeharika Telu\\Dropbox\\Mini_clean\\repeated_hyperedges_by_size\\8_hyperedges_repeated_tokens.csv\n",
      "Processing complete for 9-hyperedges. Data saved in C:\\Users\\Neeharika Telu\\Dropbox\\Mini_clean\\repeated_hyperedges_by_size\\9_hyperedges_repeated_tokens.csv\n",
      "Processing complete for 10-hyperedges. Data saved in C:\\Users\\Neeharika Telu\\Dropbox\\Mini_clean\\repeated_hyperedges_by_size\\10_hyperedges_repeated_tokens.csv\n",
      "Processing complete for 11-hyperedges. Data saved in C:\\Users\\Neeharika Telu\\Dropbox\\Mini_clean\\repeated_hyperedges_by_size\\11_hyperedges_repeated_tokens.csv\n",
      "Processing complete for 12-hyperedges. Data saved in C:\\Users\\Neeharika Telu\\Dropbox\\Mini_clean\\repeated_hyperedges_by_size\\12_hyperedges_repeated_tokens.csv\n",
      "Processing complete for 13-hyperedges. Data saved in C:\\Users\\Neeharika Telu\\Dropbox\\Mini_clean\\repeated_hyperedges_by_size\\13_hyperedges_repeated_tokens.csv\n",
      "Processing complete for 14-hyperedges. Data saved in C:\\Users\\Neeharika Telu\\Dropbox\\Mini_clean\\repeated_hyperedges_by_size\\14_hyperedges_repeated_tokens.csv\n",
      "Processing complete for 15-hyperedges. Data saved in C:\\Users\\Neeharika Telu\\Dropbox\\Mini_clean\\repeated_hyperedges_by_size\\15_hyperedges_repeated_tokens.csv\n",
      "Processing complete for 16-hyperedges. Data saved in C:\\Users\\Neeharika Telu\\Dropbox\\Mini_clean\\repeated_hyperedges_by_size\\16_hyperedges_repeated_tokens.csv\n",
      "Processing complete for 17-hyperedges. Data saved in C:\\Users\\Neeharika Telu\\Dropbox\\Mini_clean\\repeated_hyperedges_by_size\\17_hyperedges_repeated_tokens.csv\n",
      "Processing complete for 18-hyperedges. Data saved in C:\\Users\\Neeharika Telu\\Dropbox\\Mini_clean\\repeated_hyperedges_by_size\\18_hyperedges_repeated_tokens.csv\n",
      "Processing complete for 19-hyperedges. Data saved in C:\\Users\\Neeharika Telu\\Dropbox\\Mini_clean\\repeated_hyperedges_by_size\\19_hyperedges_repeated_tokens.csv\n",
      "Processing complete for 20-hyperedges. Data saved in C:\\Users\\Neeharika Telu\\Dropbox\\Mini_clean\\repeated_hyperedges_by_size\\20_hyperedges_repeated_tokens.csv\n",
      "Processing complete for 21-hyperedges. Data saved in C:\\Users\\Neeharika Telu\\Dropbox\\Mini_clean\\repeated_hyperedges_by_size\\21_hyperedges_repeated_tokens.csv\n",
      "Processing complete for 22-hyperedges. Data saved in C:\\Users\\Neeharika Telu\\Dropbox\\Mini_clean\\repeated_hyperedges_by_size\\22_hyperedges_repeated_tokens.csv\n",
      "Processing complete for 23-hyperedges. Data saved in C:\\Users\\Neeharika Telu\\Dropbox\\Mini_clean\\repeated_hyperedges_by_size\\23_hyperedges_repeated_tokens.csv\n",
      "Processing complete for 24-hyperedges. Data saved in C:\\Users\\Neeharika Telu\\Dropbox\\Mini_clean\\repeated_hyperedges_by_size\\24_hyperedges_repeated_tokens.csv\n",
      "Processing complete for 25-hyperedges. Data saved in C:\\Users\\Neeharika Telu\\Dropbox\\Mini_clean\\repeated_hyperedges_by_size\\25_hyperedges_repeated_tokens.csv\n",
      "Processing complete for 26-hyperedges. Data saved in C:\\Users\\Neeharika Telu\\Dropbox\\Mini_clean\\repeated_hyperedges_by_size\\26_hyperedges_repeated_tokens.csv\n",
      "Processing complete for 27-hyperedges. Data saved in C:\\Users\\Neeharika Telu\\Dropbox\\Mini_clean\\repeated_hyperedges_by_size\\27_hyperedges_repeated_tokens.csv\n",
      "Processing complete for 28-hyperedges. Data saved in C:\\Users\\Neeharika Telu\\Dropbox\\Mini_clean\\repeated_hyperedges_by_size\\28_hyperedges_repeated_tokens.csv\n",
      "Processing complete for 29-hyperedges. Data saved in C:\\Users\\Neeharika Telu\\Dropbox\\Mini_clean\\repeated_hyperedges_by_size\\29_hyperedges_repeated_tokens.csv\n",
      "Processing complete for 30-hyperedges. Data saved in C:\\Users\\Neeharika Telu\\Dropbox\\Mini_clean\\repeated_hyperedges_by_size\\30_hyperedges_repeated_tokens.csv\n",
      "All repeated tokens files generated successfully.\n"
     ]
    }
   ],
   "source": [
    "import os\n",
    "import csv\n",
    "from collections import defaultdict\n",
    "\n",
    "# Define input and output directories\n",
    "input_folder = r\"C:\\Users\\Neeharika Telu\\Dropbox\\Mini_clean\\hyperedges_by_size\"\n",
    "output_folder = r\"C:\\Users\\Neeharika Telu\\Dropbox\\Mini_clean\\repeated_hyperedges_by_size\"\n",
    "\n",
    "# Ensure the output directory exists\n",
    "os.makedirs(output_folder, exist_ok=True)\n",
    "\n",
    "# Iterate through hyperedge sizes from 1 to 30\n",
    "for size in range(1, 31):\n",
    "    input_file = os.path.join(input_folder, f\"{size}_hyperedges_data.csv\")\n",
    "    output_file = os.path.join(output_folder, f\"{size}_hyperedges_repeated_tokens.csv\")\n",
    "\n",
    "    # Dictionary to store token-wise node sets and their occurrence dates\n",
    "    token_nodes_date_map = defaultdict(lambda: defaultdict(list))\n",
    "\n",
    "    # Check if input file exists before processing\n",
    "    if os.path.exists(input_file):\n",
    "        with open(input_file, 'r') as csvfile:\n",
    "            reader = csv.DictReader(csvfile)\n",
    "            \n",
    "            for row in reader:\n",
    "                token = row['Token']\n",
    "                date = row['Date']\n",
    "                nodes = tuple(sorted(eval(row['Nodes'])))  # Convert nodes to a sorted tuple\n",
    "                \n",
    "                # Store the date where this token had this exact set of nodes\n",
    "                token_nodes_date_map[token][nodes].append(date)\n",
    "\n",
    "        # Find tokens and node sets that have been repeated on different days\n",
    "        repeated_tokens_data = []\n",
    "        for token, nodes_dates in token_nodes_date_map.items():\n",
    "            for nodes, dates in nodes_dates.items():\n",
    "                if len(dates) > 1:  # If the same set of nodes appeared on multiple dates\n",
    "                    repeated_tokens_data.append({\n",
    "                        'Token': token,\n",
    "                        'Nodes': nodes,\n",
    "                        'Dates': \", \".join(dates)  # Convert list of dates to a comma-separated string\n",
    "                    })\n",
    "\n",
    "        # Write the repeated tokens and their occurrence dates to a CSV file\n",
    "        with open(output_file, 'w', newline='') as csvfile:\n",
    "            fieldnames = ['Token', 'Nodes', 'Dates']\n",
    "            writer = csv.DictWriter(csvfile, fieldnames=fieldnames)\n",
    "            \n",
    "            # Write the header\n",
    "            writer.writeheader()\n",
    "            \n",
    "            # Write the repeated tokens, nodes, and their occurrence dates\n",
    "            for entry in repeated_tokens_data:\n",
    "                writer.writerow(entry)\n",
    "\n",
    "        print(f\"Processing complete for {size}-hyperedges. Data saved in {output_file}\")\n",
    "\n",
    "print(\"All repeated tokens files generated successfully.\")\n"
   ]
  },
  {
   "cell_type": "markdown",
   "metadata": {},
   "source": [
    "## Smart and Non Smart"
   ]
  },
  {
   "cell_type": "code",
   "execution_count": 5,
   "metadata": {},
   "outputs": [
    {
     "name": "stdout",
     "output_type": "stream",
     "text": [
      "Processing complete for 1-hyperedges. Data saved in C:\\Users\\Neeharika Telu\\Dropbox\\Mini_clean\\smart_filtered_hyperedges_by_size\\1_smart_filtered.csv\n",
      "Processing complete for 2-hyperedges. Data saved in C:\\Users\\Neeharika Telu\\Dropbox\\Mini_clean\\smart_filtered_hyperedges_by_size\\2_smart_filtered.csv\n",
      "Processing complete for 3-hyperedges. Data saved in C:\\Users\\Neeharika Telu\\Dropbox\\Mini_clean\\smart_filtered_hyperedges_by_size\\3_smart_filtered.csv\n",
      "Processing complete for 4-hyperedges. Data saved in C:\\Users\\Neeharika Telu\\Dropbox\\Mini_clean\\smart_filtered_hyperedges_by_size\\4_smart_filtered.csv\n",
      "Processing complete for 5-hyperedges. Data saved in C:\\Users\\Neeharika Telu\\Dropbox\\Mini_clean\\smart_filtered_hyperedges_by_size\\5_smart_filtered.csv\n",
      "Processing complete for 6-hyperedges. Data saved in C:\\Users\\Neeharika Telu\\Dropbox\\Mini_clean\\smart_filtered_hyperedges_by_size\\6_smart_filtered.csv\n",
      "Processing complete for 7-hyperedges. Data saved in C:\\Users\\Neeharika Telu\\Dropbox\\Mini_clean\\smart_filtered_hyperedges_by_size\\7_smart_filtered.csv\n",
      "Processing complete for 8-hyperedges. Data saved in C:\\Users\\Neeharika Telu\\Dropbox\\Mini_clean\\smart_filtered_hyperedges_by_size\\8_smart_filtered.csv\n",
      "Processing complete for 9-hyperedges. Data saved in C:\\Users\\Neeharika Telu\\Dropbox\\Mini_clean\\smart_filtered_hyperedges_by_size\\9_smart_filtered.csv\n",
      "Processing complete for 10-hyperedges. Data saved in C:\\Users\\Neeharika Telu\\Dropbox\\Mini_clean\\smart_filtered_hyperedges_by_size\\10_smart_filtered.csv\n",
      "Processing complete for 11-hyperedges. Data saved in C:\\Users\\Neeharika Telu\\Dropbox\\Mini_clean\\smart_filtered_hyperedges_by_size\\11_smart_filtered.csv\n",
      "Processing complete for 12-hyperedges. Data saved in C:\\Users\\Neeharika Telu\\Dropbox\\Mini_clean\\smart_filtered_hyperedges_by_size\\12_smart_filtered.csv\n",
      "Processing complete for 13-hyperedges. Data saved in C:\\Users\\Neeharika Telu\\Dropbox\\Mini_clean\\smart_filtered_hyperedges_by_size\\13_smart_filtered.csv\n",
      "Processing complete for 14-hyperedges. Data saved in C:\\Users\\Neeharika Telu\\Dropbox\\Mini_clean\\smart_filtered_hyperedges_by_size\\14_smart_filtered.csv\n",
      "Processing complete for 15-hyperedges. Data saved in C:\\Users\\Neeharika Telu\\Dropbox\\Mini_clean\\smart_filtered_hyperedges_by_size\\15_smart_filtered.csv\n",
      "Processing complete for 16-hyperedges. Data saved in C:\\Users\\Neeharika Telu\\Dropbox\\Mini_clean\\smart_filtered_hyperedges_by_size\\16_smart_filtered.csv\n",
      "Processing complete for 17-hyperedges. Data saved in C:\\Users\\Neeharika Telu\\Dropbox\\Mini_clean\\smart_filtered_hyperedges_by_size\\17_smart_filtered.csv\n",
      "Processing complete for 18-hyperedges. Data saved in C:\\Users\\Neeharika Telu\\Dropbox\\Mini_clean\\smart_filtered_hyperedges_by_size\\18_smart_filtered.csv\n",
      "Processing complete for 19-hyperedges. Data saved in C:\\Users\\Neeharika Telu\\Dropbox\\Mini_clean\\smart_filtered_hyperedges_by_size\\19_smart_filtered.csv\n",
      "Processing complete for 20-hyperedges. Data saved in C:\\Users\\Neeharika Telu\\Dropbox\\Mini_clean\\smart_filtered_hyperedges_by_size\\20_smart_filtered.csv\n",
      "Processing complete for 21-hyperedges. Data saved in C:\\Users\\Neeharika Telu\\Dropbox\\Mini_clean\\smart_filtered_hyperedges_by_size\\21_smart_filtered.csv\n",
      "Processing complete for 22-hyperedges. Data saved in C:\\Users\\Neeharika Telu\\Dropbox\\Mini_clean\\smart_filtered_hyperedges_by_size\\22_smart_filtered.csv\n",
      "Processing complete for 23-hyperedges. Data saved in C:\\Users\\Neeharika Telu\\Dropbox\\Mini_clean\\smart_filtered_hyperedges_by_size\\23_smart_filtered.csv\n",
      "Processing complete for 24-hyperedges. Data saved in C:\\Users\\Neeharika Telu\\Dropbox\\Mini_clean\\smart_filtered_hyperedges_by_size\\24_smart_filtered.csv\n",
      "Processing complete for 25-hyperedges. Data saved in C:\\Users\\Neeharika Telu\\Dropbox\\Mini_clean\\smart_filtered_hyperedges_by_size\\25_smart_filtered.csv\n",
      "Processing complete for 26-hyperedges. Data saved in C:\\Users\\Neeharika Telu\\Dropbox\\Mini_clean\\smart_filtered_hyperedges_by_size\\26_smart_filtered.csv\n",
      "Processing complete for 27-hyperedges. Data saved in C:\\Users\\Neeharika Telu\\Dropbox\\Mini_clean\\smart_filtered_hyperedges_by_size\\27_smart_filtered.csv\n",
      "Processing complete for 28-hyperedges. Data saved in C:\\Users\\Neeharika Telu\\Dropbox\\Mini_clean\\smart_filtered_hyperedges_by_size\\28_smart_filtered.csv\n",
      "Processing complete for 29-hyperedges. Data saved in C:\\Users\\Neeharika Telu\\Dropbox\\Mini_clean\\smart_filtered_hyperedges_by_size\\29_smart_filtered.csv\n",
      "Processing complete for 30-hyperedges. Data saved in C:\\Users\\Neeharika Telu\\Dropbox\\Mini_clean\\smart_filtered_hyperedges_by_size\\30_smart_filtered.csv\n",
      "All smart contract filtered files generated successfully.\n"
     ]
    }
   ],
   "source": [
    "import os\n",
    "import csv\n",
    "\n",
    "# Define input and output directories\n",
    "input_folder = r\"C:\\Users\\Neeharika Telu\\Dropbox\\Mini_clean\\repeated_hyperedges_by_size\"\n",
    "output_folder = r\"C:\\Users\\Neeharika Telu\\Dropbox\\Mini_clean\\smart_filtered_hyperedges_by_size\"\n",
    "\n",
    "# Ensure the output directory exists\n",
    "os.makedirs(output_folder, exist_ok=True)\n",
    "\n",
    "# Load non-smart contract addresses\n",
    "non_smart_file = r\"D:\\SEM_8\\Major Project\\df_nonsmart_combined_unique.csv\"\n",
    "smart_file = r\"D:\\SEM_8\\Major Project\\df_smart_combined_unique.csv\"\n",
    "\n",
    "with open(non_smart_file, \"r\") as f:\n",
    "    next(f)  # Skip header\n",
    "    non_smart_contracts = set(int(line.strip()) for line in f)\n",
    "\n",
    "with open(smart_file, \"r\") as f:\n",
    "    next(f)  # Skip header\n",
    "    smart_contracts = set(int(line.strip()) for line in f)\n",
    "\n",
    "# Iterate through hyperedge sizes from 1 to 30\n",
    "for size in range(1, 31):\n",
    "    input_file = os.path.join(input_folder, f\"{size}_hyperedges_repeated_tokens.csv\")\n",
    "    output_file = os.path.join(output_folder, f\"{size}_smart_filtered.csv\")\n",
    "\n",
    "    # Check if input file exists before processing\n",
    "    if os.path.exists(input_file):\n",
    "        with open(input_file, \"r\") as infile, open(output_file, \"w\", newline=\"\") as outfile:\n",
    "            reader = csv.reader(infile)\n",
    "            writer = csv.writer(outfile)\n",
    "            \n",
    "            # Write header\n",
    "            header = next(reader)\n",
    "            writer.writerow(header[:2] + [\"Smart_Contract_Flags\"] + [header[2]])\n",
    "            \n",
    "            for row in reader:\n",
    "                token = row[0]\n",
    "                nodes = eval(row[1])  # Convert string tuple to actual tuple\n",
    "                dates = row[2]\n",
    "\n",
    "                # Check if nodes are smart contracts\n",
    "                flags = tuple(1 if int(node) in smart_contracts else 0 for node in nodes)\n",
    "                \n",
    "                # Write updated row\n",
    "                writer.writerow([token, row[1], str(flags), dates])\n",
    "\n",
    "        print(f\"Processing complete for {size}-hyperedges. Data saved in {output_file}\")\n",
    "\n",
    "print(\"All smart contract filtered files generated successfully.\")\n"
   ]
  },
  {
   "cell_type": "markdown",
   "metadata": {},
   "source": [
    "## Temporal Distance "
   ]
  },
  {
   "cell_type": "code",
   "execution_count": 6,
   "metadata": {},
   "outputs": [
    {
     "name": "stdout",
     "output_type": "stream",
     "text": [
      "Temporal distances calculated for 1-hyperedges and saved to: C:\\Users\\Neeharika Telu\\Dropbox\\Mini_clean\\temporal_distances_by_size\\1_temporal_distances.csv\n",
      "Temporal distances calculated for 2-hyperedges and saved to: C:\\Users\\Neeharika Telu\\Dropbox\\Mini_clean\\temporal_distances_by_size\\2_temporal_distances.csv\n",
      "Temporal distances calculated for 3-hyperedges and saved to: C:\\Users\\Neeharika Telu\\Dropbox\\Mini_clean\\temporal_distances_by_size\\3_temporal_distances.csv\n",
      "Temporal distances calculated for 4-hyperedges and saved to: C:\\Users\\Neeharika Telu\\Dropbox\\Mini_clean\\temporal_distances_by_size\\4_temporal_distances.csv\n",
      "Temporal distances calculated for 5-hyperedges and saved to: C:\\Users\\Neeharika Telu\\Dropbox\\Mini_clean\\temporal_distances_by_size\\5_temporal_distances.csv\n",
      "Temporal distances calculated for 6-hyperedges and saved to: C:\\Users\\Neeharika Telu\\Dropbox\\Mini_clean\\temporal_distances_by_size\\6_temporal_distances.csv\n",
      "Temporal distances calculated for 7-hyperedges and saved to: C:\\Users\\Neeharika Telu\\Dropbox\\Mini_clean\\temporal_distances_by_size\\7_temporal_distances.csv\n",
      "Temporal distances calculated for 8-hyperedges and saved to: C:\\Users\\Neeharika Telu\\Dropbox\\Mini_clean\\temporal_distances_by_size\\8_temporal_distances.csv\n",
      "Temporal distances calculated for 9-hyperedges and saved to: C:\\Users\\Neeharika Telu\\Dropbox\\Mini_clean\\temporal_distances_by_size\\9_temporal_distances.csv\n",
      "Temporal distances calculated for 10-hyperedges and saved to: C:\\Users\\Neeharika Telu\\Dropbox\\Mini_clean\\temporal_distances_by_size\\10_temporal_distances.csv\n",
      "Temporal distances calculated for 11-hyperedges and saved to: C:\\Users\\Neeharika Telu\\Dropbox\\Mini_clean\\temporal_distances_by_size\\11_temporal_distances.csv\n",
      "Temporal distances calculated for 12-hyperedges and saved to: C:\\Users\\Neeharika Telu\\Dropbox\\Mini_clean\\temporal_distances_by_size\\12_temporal_distances.csv\n",
      "Temporal distances calculated for 13-hyperedges and saved to: C:\\Users\\Neeharika Telu\\Dropbox\\Mini_clean\\temporal_distances_by_size\\13_temporal_distances.csv\n",
      "Temporal distances calculated for 14-hyperedges and saved to: C:\\Users\\Neeharika Telu\\Dropbox\\Mini_clean\\temporal_distances_by_size\\14_temporal_distances.csv\n",
      "Temporal distances calculated for 15-hyperedges and saved to: C:\\Users\\Neeharika Telu\\Dropbox\\Mini_clean\\temporal_distances_by_size\\15_temporal_distances.csv\n",
      "Temporal distances calculated for 16-hyperedges and saved to: C:\\Users\\Neeharika Telu\\Dropbox\\Mini_clean\\temporal_distances_by_size\\16_temporal_distances.csv\n",
      "Temporal distances calculated for 17-hyperedges and saved to: C:\\Users\\Neeharika Telu\\Dropbox\\Mini_clean\\temporal_distances_by_size\\17_temporal_distances.csv\n",
      "Temporal distances calculated for 18-hyperedges and saved to: C:\\Users\\Neeharika Telu\\Dropbox\\Mini_clean\\temporal_distances_by_size\\18_temporal_distances.csv\n",
      "Temporal distances calculated for 19-hyperedges and saved to: C:\\Users\\Neeharika Telu\\Dropbox\\Mini_clean\\temporal_distances_by_size\\19_temporal_distances.csv\n",
      "Temporal distances calculated for 20-hyperedges and saved to: C:\\Users\\Neeharika Telu\\Dropbox\\Mini_clean\\temporal_distances_by_size\\20_temporal_distances.csv\n",
      "Temporal distances calculated for 21-hyperedges and saved to: C:\\Users\\Neeharika Telu\\Dropbox\\Mini_clean\\temporal_distances_by_size\\21_temporal_distances.csv\n",
      "Temporal distances calculated for 22-hyperedges and saved to: C:\\Users\\Neeharika Telu\\Dropbox\\Mini_clean\\temporal_distances_by_size\\22_temporal_distances.csv\n",
      "Temporal distances calculated for 23-hyperedges and saved to: C:\\Users\\Neeharika Telu\\Dropbox\\Mini_clean\\temporal_distances_by_size\\23_temporal_distances.csv\n",
      "Temporal distances calculated for 24-hyperedges and saved to: C:\\Users\\Neeharika Telu\\Dropbox\\Mini_clean\\temporal_distances_by_size\\24_temporal_distances.csv\n",
      "Temporal distances calculated for 25-hyperedges and saved to: C:\\Users\\Neeharika Telu\\Dropbox\\Mini_clean\\temporal_distances_by_size\\25_temporal_distances.csv\n",
      "Temporal distances calculated for 26-hyperedges and saved to: C:\\Users\\Neeharika Telu\\Dropbox\\Mini_clean\\temporal_distances_by_size\\26_temporal_distances.csv\n",
      "Temporal distances calculated for 27-hyperedges and saved to: C:\\Users\\Neeharika Telu\\Dropbox\\Mini_clean\\temporal_distances_by_size\\27_temporal_distances.csv\n",
      "Temporal distances calculated for 28-hyperedges and saved to: C:\\Users\\Neeharika Telu\\Dropbox\\Mini_clean\\temporal_distances_by_size\\28_temporal_distances.csv\n",
      "Temporal distances calculated for 29-hyperedges and saved to: C:\\Users\\Neeharika Telu\\Dropbox\\Mini_clean\\temporal_distances_by_size\\29_temporal_distances.csv\n",
      "Temporal distances calculated for 30-hyperedges and saved to: C:\\Users\\Neeharika Telu\\Dropbox\\Mini_clean\\temporal_distances_by_size\\30_temporal_distances.csv\n",
      "All temporal distances files generated successfully.\n"
     ]
    }
   ],
   "source": [
    "import os\n",
    "import pandas as pd\n",
    "\n",
    "# Define input and output directories\n",
    "input_folder = r\"C:\\Users\\Neeharika Telu\\Dropbox\\Mini_clean\\smart_filtered_hyperedges_by_size\"\n",
    "output_folder = r\"C:\\Users\\Neeharika Telu\\Dropbox\\Mini_clean\\temporal_distances_by_size\"\n",
    "\n",
    "# Ensure the output directory exists\n",
    "os.makedirs(output_folder, exist_ok=True)\n",
    "\n",
    "# Function to compute temporal distances\n",
    "def calculate_temporal_distances(dates):\n",
    "    return [abs((dates[i] - dates[i-1]).days) for i in range(1, len(dates))]\n",
    "\n",
    "# Iterate through hyperedge sizes from 1 to 30\n",
    "for size in range(1, 31):\n",
    "    input_file = os.path.join(input_folder, f\"{size}_smart_filtered.csv\")\n",
    "    output_file = os.path.join(output_folder, f\"{size}_temporal_distances.csv\")\n",
    "\n",
    "    # Check if input file exists before processing\n",
    "    if os.path.exists(input_file):\n",
    "        # Read CSV file\n",
    "        df = pd.read_csv(input_file)\n",
    "\n",
    "        # Ensure Dates column is properly processed\n",
    "        df['Dates'] = df['Dates'].apply(lambda x: sorted(pd.to_datetime([date.strip() for date in x.split(',')])))\n",
    "\n",
    "        # Compute temporal distances\n",
    "        df['Temporal_Distance'] = df['Dates'].apply(lambda x: calculate_temporal_distances(x))\n",
    "\n",
    "        # Convert dates to \"YYYY-MM-DD\" format\n",
    "        df['Dates'] = df['Dates'].apply(lambda x: str([date.strftime(\"%Y-%m-%d\") for date in x]))\n",
    "\n",
    "        # Convert the list of temporal distances to a string format\n",
    "        df['Temporal_Distance'] = df['Temporal_Distance'].apply(lambda x: str(x))\n",
    "\n",
    "        # Save to output CSV file\n",
    "        df.to_csv(output_file, index=False)\n",
    "\n",
    "        print(f\"Temporal distances calculated for {size}-hyperedges and saved to: {output_file}\")\n",
    "\n",
    "print(\"All temporal distances files generated successfully.\")\n"
   ]
  },
  {
   "cell_type": "markdown",
   "metadata": {},
   "source": [
    "## Plots"
   ]
  },
  {
   "cell_type": "code",
   "execution_count": 7,
   "metadata": {},
   "outputs": [
    {
     "name": "stderr",
     "output_type": "stream",
     "text": [
      "c:\\Users\\Neeharika Telu\\anaconda3\\Lib\\site-packages\\seaborn\\_oldcore.py:1119: FutureWarning: use_inf_as_na option is deprecated and will be removed in a future version. Convert inf values to NaN before operating instead.\n",
      "  with pd.option_context('mode.use_inf_as_na', True):\n",
      "c:\\Users\\Neeharika Telu\\anaconda3\\Lib\\site-packages\\seaborn\\_oldcore.py:1119: FutureWarning: use_inf_as_na option is deprecated and will be removed in a future version. Convert inf values to NaN before operating instead.\n",
      "  with pd.option_context('mode.use_inf_as_na', True):\n"
     ]
    },
    {
     "name": "stdout",
     "output_type": "stream",
     "text": [
      "Plots generated for hyperedge size 1\n"
     ]
    },
    {
     "name": "stderr",
     "output_type": "stream",
     "text": [
      "c:\\Users\\Neeharika Telu\\anaconda3\\Lib\\site-packages\\seaborn\\_oldcore.py:1119: FutureWarning: use_inf_as_na option is deprecated and will be removed in a future version. Convert inf values to NaN before operating instead.\n",
      "  with pd.option_context('mode.use_inf_as_na', True):\n",
      "c:\\Users\\Neeharika Telu\\anaconda3\\Lib\\site-packages\\seaborn\\_oldcore.py:1119: FutureWarning: use_inf_as_na option is deprecated and will be removed in a future version. Convert inf values to NaN before operating instead.\n",
      "  with pd.option_context('mode.use_inf_as_na', True):\n"
     ]
    },
    {
     "name": "stdout",
     "output_type": "stream",
     "text": [
      "Plots generated for hyperedge size 2\n"
     ]
    },
    {
     "name": "stderr",
     "output_type": "stream",
     "text": [
      "c:\\Users\\Neeharika Telu\\anaconda3\\Lib\\site-packages\\seaborn\\_oldcore.py:1119: FutureWarning: use_inf_as_na option is deprecated and will be removed in a future version. Convert inf values to NaN before operating instead.\n",
      "  with pd.option_context('mode.use_inf_as_na', True):\n",
      "c:\\Users\\Neeharika Telu\\anaconda3\\Lib\\site-packages\\seaborn\\_oldcore.py:1119: FutureWarning: use_inf_as_na option is deprecated and will be removed in a future version. Convert inf values to NaN before operating instead.\n",
      "  with pd.option_context('mode.use_inf_as_na', True):\n"
     ]
    },
    {
     "name": "stdout",
     "output_type": "stream",
     "text": [
      "Plots generated for hyperedge size 3\n"
     ]
    },
    {
     "name": "stderr",
     "output_type": "stream",
     "text": [
      "c:\\Users\\Neeharika Telu\\anaconda3\\Lib\\site-packages\\seaborn\\_oldcore.py:1119: FutureWarning: use_inf_as_na option is deprecated and will be removed in a future version. Convert inf values to NaN before operating instead.\n",
      "  with pd.option_context('mode.use_inf_as_na', True):\n",
      "c:\\Users\\Neeharika Telu\\anaconda3\\Lib\\site-packages\\seaborn\\_oldcore.py:1119: FutureWarning: use_inf_as_na option is deprecated and will be removed in a future version. Convert inf values to NaN before operating instead.\n",
      "  with pd.option_context('mode.use_inf_as_na', True):\n"
     ]
    },
    {
     "name": "stdout",
     "output_type": "stream",
     "text": [
      "Plots generated for hyperedge size 4\n"
     ]
    },
    {
     "name": "stderr",
     "output_type": "stream",
     "text": [
      "c:\\Users\\Neeharika Telu\\anaconda3\\Lib\\site-packages\\seaborn\\_oldcore.py:1119: FutureWarning: use_inf_as_na option is deprecated and will be removed in a future version. Convert inf values to NaN before operating instead.\n",
      "  with pd.option_context('mode.use_inf_as_na', True):\n",
      "c:\\Users\\Neeharika Telu\\anaconda3\\Lib\\site-packages\\seaborn\\_oldcore.py:1119: FutureWarning: use_inf_as_na option is deprecated and will be removed in a future version. Convert inf values to NaN before operating instead.\n",
      "  with pd.option_context('mode.use_inf_as_na', True):\n"
     ]
    },
    {
     "name": "stdout",
     "output_type": "stream",
     "text": [
      "Plots generated for hyperedge size 5\n"
     ]
    },
    {
     "name": "stderr",
     "output_type": "stream",
     "text": [
      "c:\\Users\\Neeharika Telu\\anaconda3\\Lib\\site-packages\\seaborn\\_oldcore.py:1119: FutureWarning: use_inf_as_na option is deprecated and will be removed in a future version. Convert inf values to NaN before operating instead.\n",
      "  with pd.option_context('mode.use_inf_as_na', True):\n",
      "c:\\Users\\Neeharika Telu\\anaconda3\\Lib\\site-packages\\seaborn\\_oldcore.py:1119: FutureWarning: use_inf_as_na option is deprecated and will be removed in a future version. Convert inf values to NaN before operating instead.\n",
      "  with pd.option_context('mode.use_inf_as_na', True):\n"
     ]
    },
    {
     "name": "stdout",
     "output_type": "stream",
     "text": [
      "Plots generated for hyperedge size 6\n"
     ]
    },
    {
     "name": "stderr",
     "output_type": "stream",
     "text": [
      "c:\\Users\\Neeharika Telu\\anaconda3\\Lib\\site-packages\\seaborn\\_oldcore.py:1119: FutureWarning: use_inf_as_na option is deprecated and will be removed in a future version. Convert inf values to NaN before operating instead.\n",
      "  with pd.option_context('mode.use_inf_as_na', True):\n"
     ]
    },
    {
     "name": "stdout",
     "output_type": "stream",
     "text": [
      "Plots generated for hyperedge size 7\n"
     ]
    },
    {
     "name": "stderr",
     "output_type": "stream",
     "text": [
      "c:\\Users\\Neeharika Telu\\anaconda3\\Lib\\site-packages\\seaborn\\_oldcore.py:1119: FutureWarning: use_inf_as_na option is deprecated and will be removed in a future version. Convert inf values to NaN before operating instead.\n",
      "  with pd.option_context('mode.use_inf_as_na', True):\n",
      "c:\\Users\\Neeharika Telu\\anaconda3\\Lib\\site-packages\\seaborn\\_oldcore.py:1119: FutureWarning: use_inf_as_na option is deprecated and will be removed in a future version. Convert inf values to NaN before operating instead.\n",
      "  with pd.option_context('mode.use_inf_as_na', True):\n"
     ]
    },
    {
     "name": "stdout",
     "output_type": "stream",
     "text": [
      "Plots generated for hyperedge size 8\n"
     ]
    },
    {
     "name": "stderr",
     "output_type": "stream",
     "text": [
      "c:\\Users\\Neeharika Telu\\anaconda3\\Lib\\site-packages\\seaborn\\_oldcore.py:1119: FutureWarning: use_inf_as_na option is deprecated and will be removed in a future version. Convert inf values to NaN before operating instead.\n",
      "  with pd.option_context('mode.use_inf_as_na', True):\n",
      "c:\\Users\\Neeharika Telu\\anaconda3\\Lib\\site-packages\\seaborn\\_oldcore.py:1119: FutureWarning: use_inf_as_na option is deprecated and will be removed in a future version. Convert inf values to NaN before operating instead.\n",
      "  with pd.option_context('mode.use_inf_as_na', True):\n"
     ]
    },
    {
     "name": "stdout",
     "output_type": "stream",
     "text": [
      "Plots generated for hyperedge size 9\n"
     ]
    },
    {
     "name": "stderr",
     "output_type": "stream",
     "text": [
      "c:\\Users\\Neeharika Telu\\anaconda3\\Lib\\site-packages\\seaborn\\_oldcore.py:1119: FutureWarning: use_inf_as_na option is deprecated and will be removed in a future version. Convert inf values to NaN before operating instead.\n",
      "  with pd.option_context('mode.use_inf_as_na', True):\n",
      "c:\\Users\\Neeharika Telu\\anaconda3\\Lib\\site-packages\\seaborn\\_oldcore.py:1119: FutureWarning: use_inf_as_na option is deprecated and will be removed in a future version. Convert inf values to NaN before operating instead.\n",
      "  with pd.option_context('mode.use_inf_as_na', True):\n"
     ]
    },
    {
     "name": "stdout",
     "output_type": "stream",
     "text": [
      "Plots generated for hyperedge size 10\n"
     ]
    },
    {
     "name": "stderr",
     "output_type": "stream",
     "text": [
      "c:\\Users\\Neeharika Telu\\anaconda3\\Lib\\site-packages\\seaborn\\_oldcore.py:1119: FutureWarning: use_inf_as_na option is deprecated and will be removed in a future version. Convert inf values to NaN before operating instead.\n",
      "  with pd.option_context('mode.use_inf_as_na', True):\n"
     ]
    },
    {
     "name": "stdout",
     "output_type": "stream",
     "text": [
      "Plots generated for hyperedge size 11\n"
     ]
    },
    {
     "name": "stderr",
     "output_type": "stream",
     "text": [
      "c:\\Users\\Neeharika Telu\\anaconda3\\Lib\\site-packages\\seaborn\\_oldcore.py:1119: FutureWarning: use_inf_as_na option is deprecated and will be removed in a future version. Convert inf values to NaN before operating instead.\n",
      "  with pd.option_context('mode.use_inf_as_na', True):\n",
      "c:\\Users\\Neeharika Telu\\anaconda3\\Lib\\site-packages\\seaborn\\_oldcore.py:1119: FutureWarning: use_inf_as_na option is deprecated and will be removed in a future version. Convert inf values to NaN before operating instead.\n",
      "  with pd.option_context('mode.use_inf_as_na', True):\n"
     ]
    },
    {
     "name": "stdout",
     "output_type": "stream",
     "text": [
      "Plots generated for hyperedge size 12\n",
      "Plots generated for hyperedge size 13\n"
     ]
    },
    {
     "name": "stderr",
     "output_type": "stream",
     "text": [
      "c:\\Users\\Neeharika Telu\\anaconda3\\Lib\\site-packages\\seaborn\\_oldcore.py:1119: FutureWarning: use_inf_as_na option is deprecated and will be removed in a future version. Convert inf values to NaN before operating instead.\n",
      "  with pd.option_context('mode.use_inf_as_na', True):\n"
     ]
    },
    {
     "name": "stdout",
     "output_type": "stream",
     "text": [
      "Plots generated for hyperedge size 14\n"
     ]
    },
    {
     "name": "stderr",
     "output_type": "stream",
     "text": [
      "c:\\Users\\Neeharika Telu\\anaconda3\\Lib\\site-packages\\seaborn\\_oldcore.py:1119: FutureWarning: use_inf_as_na option is deprecated and will be removed in a future version. Convert inf values to NaN before operating instead.\n",
      "  with pd.option_context('mode.use_inf_as_na', True):\n",
      "c:\\Users\\Neeharika Telu\\anaconda3\\Lib\\site-packages\\seaborn\\_oldcore.py:1119: FutureWarning: use_inf_as_na option is deprecated and will be removed in a future version. Convert inf values to NaN before operating instead.\n",
      "  with pd.option_context('mode.use_inf_as_na', True):\n"
     ]
    },
    {
     "name": "stdout",
     "output_type": "stream",
     "text": [
      "Plots generated for hyperedge size 15\n"
     ]
    },
    {
     "name": "stderr",
     "output_type": "stream",
     "text": [
      "c:\\Users\\Neeharika Telu\\anaconda3\\Lib\\site-packages\\seaborn\\_oldcore.py:1119: FutureWarning: use_inf_as_na option is deprecated and will be removed in a future version. Convert inf values to NaN before operating instead.\n",
      "  with pd.option_context('mode.use_inf_as_na', True):\n"
     ]
    },
    {
     "name": "stdout",
     "output_type": "stream",
     "text": [
      "Plots generated for hyperedge size 16\n"
     ]
    },
    {
     "name": "stderr",
     "output_type": "stream",
     "text": [
      "c:\\Users\\Neeharika Telu\\anaconda3\\Lib\\site-packages\\seaborn\\_oldcore.py:1119: FutureWarning: use_inf_as_na option is deprecated and will be removed in a future version. Convert inf values to NaN before operating instead.\n",
      "  with pd.option_context('mode.use_inf_as_na', True):\n"
     ]
    },
    {
     "name": "stdout",
     "output_type": "stream",
     "text": [
      "Plots generated for hyperedge size 17\n"
     ]
    },
    {
     "name": "stderr",
     "output_type": "stream",
     "text": [
      "c:\\Users\\Neeharika Telu\\anaconda3\\Lib\\site-packages\\seaborn\\_oldcore.py:1119: FutureWarning: use_inf_as_na option is deprecated and will be removed in a future version. Convert inf values to NaN before operating instead.\n",
      "  with pd.option_context('mode.use_inf_as_na', True):\n",
      "c:\\Users\\Neeharika Telu\\anaconda3\\Lib\\site-packages\\seaborn\\_oldcore.py:1119: FutureWarning: use_inf_as_na option is deprecated and will be removed in a future version. Convert inf values to NaN before operating instead.\n",
      "  with pd.option_context('mode.use_inf_as_na', True):\n"
     ]
    },
    {
     "name": "stdout",
     "output_type": "stream",
     "text": [
      "Plots generated for hyperedge size 18\n",
      "Plots generated for hyperedge size 19\n"
     ]
    },
    {
     "name": "stderr",
     "output_type": "stream",
     "text": [
      "c:\\Users\\Neeharika Telu\\anaconda3\\Lib\\site-packages\\seaborn\\_oldcore.py:1119: FutureWarning: use_inf_as_na option is deprecated and will be removed in a future version. Convert inf values to NaN before operating instead.\n",
      "  with pd.option_context('mode.use_inf_as_na', True):\n",
      "c:\\Users\\Neeharika Telu\\anaconda3\\Lib\\site-packages\\seaborn\\_oldcore.py:1119: FutureWarning: use_inf_as_na option is deprecated and will be removed in a future version. Convert inf values to NaN before operating instead.\n",
      "  with pd.option_context('mode.use_inf_as_na', True):\n"
     ]
    },
    {
     "name": "stdout",
     "output_type": "stream",
     "text": [
      "Plots generated for hyperedge size 20\n",
      "Plots generated for hyperedge size 21\n",
      "Plots generated for hyperedge size 22\n"
     ]
    },
    {
     "name": "stderr",
     "output_type": "stream",
     "text": [
      "c:\\Users\\Neeharika Telu\\anaconda3\\Lib\\site-packages\\seaborn\\_oldcore.py:1119: FutureWarning: use_inf_as_na option is deprecated and will be removed in a future version. Convert inf values to NaN before operating instead.\n",
      "  with pd.option_context('mode.use_inf_as_na', True):\n"
     ]
    },
    {
     "name": "stdout",
     "output_type": "stream",
     "text": [
      "Plots generated for hyperedge size 23\n"
     ]
    },
    {
     "name": "stderr",
     "output_type": "stream",
     "text": [
      "c:\\Users\\Neeharika Telu\\anaconda3\\Lib\\site-packages\\seaborn\\_oldcore.py:1119: FutureWarning: use_inf_as_na option is deprecated and will be removed in a future version. Convert inf values to NaN before operating instead.\n",
      "  with pd.option_context('mode.use_inf_as_na', True):\n",
      "c:\\Users\\Neeharika Telu\\anaconda3\\Lib\\site-packages\\seaborn\\_oldcore.py:1119: FutureWarning: use_inf_as_na option is deprecated and will be removed in a future version. Convert inf values to NaN before operating instead.\n",
      "  with pd.option_context('mode.use_inf_as_na', True):\n"
     ]
    },
    {
     "name": "stdout",
     "output_type": "stream",
     "text": [
      "Plots generated for hyperedge size 24\n",
      "Plots generated for hyperedge size 25\n",
      "Plots generated for hyperedge size 26\n",
      "Plots generated for hyperedge size 27\n"
     ]
    },
    {
     "name": "stderr",
     "output_type": "stream",
     "text": [
      "c:\\Users\\Neeharika Telu\\anaconda3\\Lib\\site-packages\\seaborn\\_oldcore.py:1119: FutureWarning: use_inf_as_na option is deprecated and will be removed in a future version. Convert inf values to NaN before operating instead.\n",
      "  with pd.option_context('mode.use_inf_as_na', True):\n"
     ]
    },
    {
     "name": "stdout",
     "output_type": "stream",
     "text": [
      "Plots generated for hyperedge size 28\n",
      "Plots generated for hyperedge size 29\n",
      "Plots generated for hyperedge size 30\n",
      "All plots generated successfully.\n"
     ]
    }
   ],
   "source": [
    "import os\n",
    "import pandas as pd\n",
    "import ast  # To convert string lists into actual lists\n",
    "import matplotlib.pyplot as plt\n",
    "import seaborn as sns\n",
    "\n",
    "# Define input and output directories\n",
    "input_folder = r\"C:\\Users\\Neeharika Telu\\Dropbox\\Mini_clean\\temporal_distances_by_size\"\n",
    "output_folder = r\"C:\\Users\\Neeharika Telu\\Dropbox\\Mini_clean\\temporal_distance_plots\"\n",
    "\n",
    "# Ensure the output folder exists\n",
    "os.makedirs(output_folder, exist_ok=True)\n",
    "\n",
    "# Process files from 1 to 30 hyperedges\n",
    "for size in range(1, 31):\n",
    "    input_file = os.path.join(input_folder, f\"{size}_temporal_distances.csv\")\n",
    "\n",
    "    # Check if the input file exists\n",
    "    if os.path.exists(input_file):\n",
    "        # Load the dataset\n",
    "        df = pd.read_csv(input_file)\n",
    "\n",
    "        # Convert 'Dates' and 'Temporal_Distance' from string to list\n",
    "        df[\"Dates\"] = df[\"Dates\"].apply(ast.literal_eval)\n",
    "        df[\"Temporal_Distance\"] = df[\"Temporal_Distance\"].apply(ast.literal_eval)\n",
    "\n",
    "        # Lists to store distances\n",
    "        first_to_second = []\n",
    "        second_to_third = []\n",
    "\n",
    "        # Extract first-to-second and second-to-third temporal distances\n",
    "        for distances in df[\"Temporal_Distance\"]:\n",
    "            if len(distances) >= 1:\n",
    "                first_to_second.append(distances[0])  # First to second distance\n",
    "            if len(distances) >= 2:\n",
    "                second_to_third.append(distances[1])  # Second to third distance\n",
    "\n",
    "        # 📌 Plot 1: First-to-Second Date Distance Distribution\n",
    "        plt.figure(figsize=(10, 5))\n",
    "        sns.histplot(first_to_second, bins=30, kde=True, color=\"blue\", alpha=0.7)\n",
    "        plt.xlabel(\"Days Between First and Second Transactions\")\n",
    "        plt.ylabel(\"Frequency\")\n",
    "        plt.title(f\"Hyperedge Size {size}: First-to-Second Date Temporal Distances\")\n",
    "        plt.grid(False)\n",
    "        plt.savefig(os.path.join(output_folder, f\"{size}_first_to_second.png\"))\n",
    "        plt.close()\n",
    "\n",
    "        # 📌 Plot 2: Second-to-Third Date Distance Distribution\n",
    "        plt.figure(figsize=(10, 5))\n",
    "        sns.histplot(second_to_third, bins=30, kde=True, color=\"red\", alpha=0.7)\n",
    "        plt.xlabel(\"Days Between Second and Third Transactions\")\n",
    "        plt.ylabel(\"Frequency\")\n",
    "        plt.title(f\"Hyperedge Size {size}: Second-to-Third Date Temporal Distances\")\n",
    "        plt.grid(False)\n",
    "        plt.savefig(os.path.join(output_folder, f\"{size}_second_to_third.png\"))\n",
    "        plt.close()\n",
    "\n",
    "        print(f\"Plots generated for hyperedge size {size}\")\n",
    "\n",
    "print(\"All plots generated successfully.\")\n"
   ]
  },
  {
   "cell_type": "markdown",
   "metadata": {},
   "source": [
    "### Plots(log y axis)"
   ]
  },
  {
   "cell_type": "code",
   "execution_count": 8,
   "metadata": {},
   "outputs": [
    {
     "name": "stderr",
     "output_type": "stream",
     "text": [
      "c:\\Users\\Neeharika Telu\\anaconda3\\Lib\\site-packages\\seaborn\\_oldcore.py:1119: FutureWarning: use_inf_as_na option is deprecated and will be removed in a future version. Convert inf values to NaN before operating instead.\n",
      "  with pd.option_context('mode.use_inf_as_na', True):\n",
      "c:\\Users\\Neeharika Telu\\anaconda3\\Lib\\site-packages\\seaborn\\_oldcore.py:1119: FutureWarning: use_inf_as_na option is deprecated and will be removed in a future version. Convert inf values to NaN before operating instead.\n",
      "  with pd.option_context('mode.use_inf_as_na', True):\n"
     ]
    },
    {
     "name": "stdout",
     "output_type": "stream",
     "text": [
      "Plots generated for hyperedge size 1\n"
     ]
    },
    {
     "name": "stderr",
     "output_type": "stream",
     "text": [
      "c:\\Users\\Neeharika Telu\\anaconda3\\Lib\\site-packages\\seaborn\\_oldcore.py:1119: FutureWarning: use_inf_as_na option is deprecated and will be removed in a future version. Convert inf values to NaN before operating instead.\n",
      "  with pd.option_context('mode.use_inf_as_na', True):\n",
      "c:\\Users\\Neeharika Telu\\anaconda3\\Lib\\site-packages\\seaborn\\_oldcore.py:1119: FutureWarning: use_inf_as_na option is deprecated and will be removed in a future version. Convert inf values to NaN before operating instead.\n",
      "  with pd.option_context('mode.use_inf_as_na', True):\n"
     ]
    },
    {
     "name": "stdout",
     "output_type": "stream",
     "text": [
      "Plots generated for hyperedge size 2\n"
     ]
    },
    {
     "name": "stderr",
     "output_type": "stream",
     "text": [
      "c:\\Users\\Neeharika Telu\\anaconda3\\Lib\\site-packages\\seaborn\\_oldcore.py:1119: FutureWarning: use_inf_as_na option is deprecated and will be removed in a future version. Convert inf values to NaN before operating instead.\n",
      "  with pd.option_context('mode.use_inf_as_na', True):\n",
      "c:\\Users\\Neeharika Telu\\anaconda3\\Lib\\site-packages\\seaborn\\_oldcore.py:1119: FutureWarning: use_inf_as_na option is deprecated and will be removed in a future version. Convert inf values to NaN before operating instead.\n",
      "  with pd.option_context('mode.use_inf_as_na', True):\n"
     ]
    },
    {
     "name": "stdout",
     "output_type": "stream",
     "text": [
      "Plots generated for hyperedge size 3\n"
     ]
    },
    {
     "name": "stderr",
     "output_type": "stream",
     "text": [
      "c:\\Users\\Neeharika Telu\\anaconda3\\Lib\\site-packages\\seaborn\\_oldcore.py:1119: FutureWarning: use_inf_as_na option is deprecated and will be removed in a future version. Convert inf values to NaN before operating instead.\n",
      "  with pd.option_context('mode.use_inf_as_na', True):\n",
      "c:\\Users\\Neeharika Telu\\anaconda3\\Lib\\site-packages\\seaborn\\_oldcore.py:1119: FutureWarning: use_inf_as_na option is deprecated and will be removed in a future version. Convert inf values to NaN before operating instead.\n",
      "  with pd.option_context('mode.use_inf_as_na', True):\n"
     ]
    },
    {
     "name": "stdout",
     "output_type": "stream",
     "text": [
      "Plots generated for hyperedge size 4\n"
     ]
    },
    {
     "name": "stderr",
     "output_type": "stream",
     "text": [
      "c:\\Users\\Neeharika Telu\\anaconda3\\Lib\\site-packages\\seaborn\\_oldcore.py:1119: FutureWarning: use_inf_as_na option is deprecated and will be removed in a future version. Convert inf values to NaN before operating instead.\n",
      "  with pd.option_context('mode.use_inf_as_na', True):\n",
      "c:\\Users\\Neeharika Telu\\anaconda3\\Lib\\site-packages\\seaborn\\_oldcore.py:1119: FutureWarning: use_inf_as_na option is deprecated and will be removed in a future version. Convert inf values to NaN before operating instead.\n",
      "  with pd.option_context('mode.use_inf_as_na', True):\n"
     ]
    },
    {
     "name": "stdout",
     "output_type": "stream",
     "text": [
      "Plots generated for hyperedge size 5\n"
     ]
    },
    {
     "name": "stderr",
     "output_type": "stream",
     "text": [
      "c:\\Users\\Neeharika Telu\\anaconda3\\Lib\\site-packages\\seaborn\\_oldcore.py:1119: FutureWarning: use_inf_as_na option is deprecated and will be removed in a future version. Convert inf values to NaN before operating instead.\n",
      "  with pd.option_context('mode.use_inf_as_na', True):\n",
      "c:\\Users\\Neeharika Telu\\anaconda3\\Lib\\site-packages\\seaborn\\_oldcore.py:1119: FutureWarning: use_inf_as_na option is deprecated and will be removed in a future version. Convert inf values to NaN before operating instead.\n",
      "  with pd.option_context('mode.use_inf_as_na', True):\n"
     ]
    },
    {
     "name": "stdout",
     "output_type": "stream",
     "text": [
      "Plots generated for hyperedge size 6\n"
     ]
    },
    {
     "name": "stderr",
     "output_type": "stream",
     "text": [
      "c:\\Users\\Neeharika Telu\\anaconda3\\Lib\\site-packages\\seaborn\\_oldcore.py:1119: FutureWarning: use_inf_as_na option is deprecated and will be removed in a future version. Convert inf values to NaN before operating instead.\n",
      "  with pd.option_context('mode.use_inf_as_na', True):\n"
     ]
    },
    {
     "name": "stdout",
     "output_type": "stream",
     "text": [
      "Plots generated for hyperedge size 7\n"
     ]
    },
    {
     "name": "stderr",
     "output_type": "stream",
     "text": [
      "c:\\Users\\Neeharika Telu\\anaconda3\\Lib\\site-packages\\seaborn\\_oldcore.py:1119: FutureWarning: use_inf_as_na option is deprecated and will be removed in a future version. Convert inf values to NaN before operating instead.\n",
      "  with pd.option_context('mode.use_inf_as_na', True):\n",
      "c:\\Users\\Neeharika Telu\\anaconda3\\Lib\\site-packages\\seaborn\\_oldcore.py:1119: FutureWarning: use_inf_as_na option is deprecated and will be removed in a future version. Convert inf values to NaN before operating instead.\n",
      "  with pd.option_context('mode.use_inf_as_na', True):\n"
     ]
    },
    {
     "name": "stdout",
     "output_type": "stream",
     "text": [
      "Plots generated for hyperedge size 8\n"
     ]
    },
    {
     "name": "stderr",
     "output_type": "stream",
     "text": [
      "c:\\Users\\Neeharika Telu\\anaconda3\\Lib\\site-packages\\seaborn\\_oldcore.py:1119: FutureWarning: use_inf_as_na option is deprecated and will be removed in a future version. Convert inf values to NaN before operating instead.\n",
      "  with pd.option_context('mode.use_inf_as_na', True):\n",
      "c:\\Users\\Neeharika Telu\\anaconda3\\Lib\\site-packages\\seaborn\\_oldcore.py:1119: FutureWarning: use_inf_as_na option is deprecated and will be removed in a future version. Convert inf values to NaN before operating instead.\n",
      "  with pd.option_context('mode.use_inf_as_na', True):\n"
     ]
    },
    {
     "name": "stdout",
     "output_type": "stream",
     "text": [
      "Plots generated for hyperedge size 9\n"
     ]
    },
    {
     "name": "stderr",
     "output_type": "stream",
     "text": [
      "c:\\Users\\Neeharika Telu\\anaconda3\\Lib\\site-packages\\seaborn\\_oldcore.py:1119: FutureWarning: use_inf_as_na option is deprecated and will be removed in a future version. Convert inf values to NaN before operating instead.\n",
      "  with pd.option_context('mode.use_inf_as_na', True):\n",
      "c:\\Users\\Neeharika Telu\\anaconda3\\Lib\\site-packages\\seaborn\\_oldcore.py:1119: FutureWarning: use_inf_as_na option is deprecated and will be removed in a future version. Convert inf values to NaN before operating instead.\n",
      "  with pd.option_context('mode.use_inf_as_na', True):\n"
     ]
    },
    {
     "name": "stdout",
     "output_type": "stream",
     "text": [
      "Plots generated for hyperedge size 10\n"
     ]
    },
    {
     "name": "stderr",
     "output_type": "stream",
     "text": [
      "c:\\Users\\Neeharika Telu\\anaconda3\\Lib\\site-packages\\seaborn\\_oldcore.py:1119: FutureWarning: use_inf_as_na option is deprecated and will be removed in a future version. Convert inf values to NaN before operating instead.\n",
      "  with pd.option_context('mode.use_inf_as_na', True):\n"
     ]
    },
    {
     "name": "stdout",
     "output_type": "stream",
     "text": [
      "Plots generated for hyperedge size 11\n"
     ]
    },
    {
     "name": "stderr",
     "output_type": "stream",
     "text": [
      "c:\\Users\\Neeharika Telu\\anaconda3\\Lib\\site-packages\\seaborn\\_oldcore.py:1119: FutureWarning: use_inf_as_na option is deprecated and will be removed in a future version. Convert inf values to NaN before operating instead.\n",
      "  with pd.option_context('mode.use_inf_as_na', True):\n",
      "c:\\Users\\Neeharika Telu\\anaconda3\\Lib\\site-packages\\seaborn\\_oldcore.py:1119: FutureWarning: use_inf_as_na option is deprecated and will be removed in a future version. Convert inf values to NaN before operating instead.\n",
      "  with pd.option_context('mode.use_inf_as_na', True):\n"
     ]
    },
    {
     "name": "stdout",
     "output_type": "stream",
     "text": [
      "Plots generated for hyperedge size 12\n",
      "Plots generated for hyperedge size 13\n"
     ]
    },
    {
     "name": "stderr",
     "output_type": "stream",
     "text": [
      "c:\\Users\\Neeharika Telu\\anaconda3\\Lib\\site-packages\\seaborn\\_oldcore.py:1119: FutureWarning: use_inf_as_na option is deprecated and will be removed in a future version. Convert inf values to NaN before operating instead.\n",
      "  with pd.option_context('mode.use_inf_as_na', True):\n"
     ]
    },
    {
     "name": "stdout",
     "output_type": "stream",
     "text": [
      "Plots generated for hyperedge size 14\n"
     ]
    },
    {
     "name": "stderr",
     "output_type": "stream",
     "text": [
      "c:\\Users\\Neeharika Telu\\anaconda3\\Lib\\site-packages\\seaborn\\_oldcore.py:1119: FutureWarning: use_inf_as_na option is deprecated and will be removed in a future version. Convert inf values to NaN before operating instead.\n",
      "  with pd.option_context('mode.use_inf_as_na', True):\n",
      "c:\\Users\\Neeharika Telu\\anaconda3\\Lib\\site-packages\\seaborn\\_oldcore.py:1119: FutureWarning: use_inf_as_na option is deprecated and will be removed in a future version. Convert inf values to NaN before operating instead.\n",
      "  with pd.option_context('mode.use_inf_as_na', True):\n"
     ]
    },
    {
     "name": "stdout",
     "output_type": "stream",
     "text": [
      "Plots generated for hyperedge size 15\n"
     ]
    },
    {
     "name": "stderr",
     "output_type": "stream",
     "text": [
      "c:\\Users\\Neeharika Telu\\anaconda3\\Lib\\site-packages\\seaborn\\_oldcore.py:1119: FutureWarning: use_inf_as_na option is deprecated and will be removed in a future version. Convert inf values to NaN before operating instead.\n",
      "  with pd.option_context('mode.use_inf_as_na', True):\n"
     ]
    },
    {
     "name": "stdout",
     "output_type": "stream",
     "text": [
      "Plots generated for hyperedge size 16\n"
     ]
    },
    {
     "name": "stderr",
     "output_type": "stream",
     "text": [
      "c:\\Users\\Neeharika Telu\\anaconda3\\Lib\\site-packages\\seaborn\\_oldcore.py:1119: FutureWarning: use_inf_as_na option is deprecated and will be removed in a future version. Convert inf values to NaN before operating instead.\n",
      "  with pd.option_context('mode.use_inf_as_na', True):\n"
     ]
    },
    {
     "name": "stdout",
     "output_type": "stream",
     "text": [
      "Plots generated for hyperedge size 17\n"
     ]
    },
    {
     "name": "stderr",
     "output_type": "stream",
     "text": [
      "c:\\Users\\Neeharika Telu\\anaconda3\\Lib\\site-packages\\seaborn\\_oldcore.py:1119: FutureWarning: use_inf_as_na option is deprecated and will be removed in a future version. Convert inf values to NaN before operating instead.\n",
      "  with pd.option_context('mode.use_inf_as_na', True):\n",
      "c:\\Users\\Neeharika Telu\\anaconda3\\Lib\\site-packages\\seaborn\\_oldcore.py:1119: FutureWarning: use_inf_as_na option is deprecated and will be removed in a future version. Convert inf values to NaN before operating instead.\n",
      "  with pd.option_context('mode.use_inf_as_na', True):\n"
     ]
    },
    {
     "name": "stdout",
     "output_type": "stream",
     "text": [
      "Plots generated for hyperedge size 18\n",
      "Plots generated for hyperedge size 19\n"
     ]
    },
    {
     "name": "stderr",
     "output_type": "stream",
     "text": [
      "c:\\Users\\Neeharika Telu\\anaconda3\\Lib\\site-packages\\seaborn\\_oldcore.py:1119: FutureWarning: use_inf_as_na option is deprecated and will be removed in a future version. Convert inf values to NaN before operating instead.\n",
      "  with pd.option_context('mode.use_inf_as_na', True):\n",
      "c:\\Users\\Neeharika Telu\\anaconda3\\Lib\\site-packages\\seaborn\\_oldcore.py:1119: FutureWarning: use_inf_as_na option is deprecated and will be removed in a future version. Convert inf values to NaN before operating instead.\n",
      "  with pd.option_context('mode.use_inf_as_na', True):\n"
     ]
    },
    {
     "name": "stdout",
     "output_type": "stream",
     "text": [
      "Plots generated for hyperedge size 20\n",
      "Plots generated for hyperedge size 21\n",
      "Plots generated for hyperedge size 22\n"
     ]
    },
    {
     "name": "stderr",
     "output_type": "stream",
     "text": [
      "c:\\Users\\Neeharika Telu\\anaconda3\\Lib\\site-packages\\seaborn\\_oldcore.py:1119: FutureWarning: use_inf_as_na option is deprecated and will be removed in a future version. Convert inf values to NaN before operating instead.\n",
      "  with pd.option_context('mode.use_inf_as_na', True):\n"
     ]
    },
    {
     "name": "stdout",
     "output_type": "stream",
     "text": [
      "Plots generated for hyperedge size 23\n"
     ]
    },
    {
     "name": "stderr",
     "output_type": "stream",
     "text": [
      "c:\\Users\\Neeharika Telu\\anaconda3\\Lib\\site-packages\\seaborn\\_oldcore.py:1119: FutureWarning: use_inf_as_na option is deprecated and will be removed in a future version. Convert inf values to NaN before operating instead.\n",
      "  with pd.option_context('mode.use_inf_as_na', True):\n",
      "c:\\Users\\Neeharika Telu\\anaconda3\\Lib\\site-packages\\seaborn\\_oldcore.py:1119: FutureWarning: use_inf_as_na option is deprecated and will be removed in a future version. Convert inf values to NaN before operating instead.\n",
      "  with pd.option_context('mode.use_inf_as_na', True):\n"
     ]
    },
    {
     "name": "stdout",
     "output_type": "stream",
     "text": [
      "Plots generated for hyperedge size 24\n",
      "Plots generated for hyperedge size 25\n",
      "Plots generated for hyperedge size 26\n",
      "Plots generated for hyperedge size 27\n"
     ]
    },
    {
     "name": "stderr",
     "output_type": "stream",
     "text": [
      "c:\\Users\\Neeharika Telu\\anaconda3\\Lib\\site-packages\\seaborn\\_oldcore.py:1119: FutureWarning: use_inf_as_na option is deprecated and will be removed in a future version. Convert inf values to NaN before operating instead.\n",
      "  with pd.option_context('mode.use_inf_as_na', True):\n"
     ]
    },
    {
     "name": "stdout",
     "output_type": "stream",
     "text": [
      "Plots generated for hyperedge size 28\n",
      "Plots generated for hyperedge size 29\n",
      "Plots generated for hyperedge size 30\n",
      "All plots generated successfully.\n"
     ]
    }
   ],
   "source": [
    "import os\n",
    "import pandas as pd\n",
    "import ast  # To convert string lists into actual lists\n",
    "import matplotlib.pyplot as plt\n",
    "import seaborn as sns\n",
    "\n",
    "# Define input and output directories\n",
    "input_folder = r\"C:\\Users\\Neeharika Telu\\Dropbox\\Mini_clean\\temporal_distances_by_size\"\n",
    "output_folder = r\"C:\\Users\\Neeharika Telu\\Dropbox\\Mini_clean\\temporal_distance_plots_log_y\"\n",
    "\n",
    "# Ensure the output folder exists\n",
    "os.makedirs(output_folder, exist_ok=True)\n",
    "\n",
    "# Process files from 1 to 30 hyperedges\n",
    "for size in range(1, 31):\n",
    "    input_file = os.path.join(input_folder, f\"{size}_temporal_distances.csv\")\n",
    "\n",
    "    # Check if the input file exists\n",
    "    if os.path.exists(input_file):\n",
    "        # Load the dataset\n",
    "        df = pd.read_csv(input_file)\n",
    "\n",
    "        # Convert 'Dates' and 'Temporal_Distance' from string to list\n",
    "        df[\"Dates\"] = df[\"Dates\"].apply(ast.literal_eval)\n",
    "        df[\"Temporal_Distance\"] = df[\"Temporal_Distance\"].apply(ast.literal_eval)\n",
    "\n",
    "        # Lists to store distances\n",
    "        first_to_second = []\n",
    "        second_to_third = []\n",
    "\n",
    "        # Extract first-to-second and second-to-third temporal distances\n",
    "        for distances in df[\"Temporal_Distance\"]:\n",
    "            if len(distances) >= 1:\n",
    "                first_to_second.append(distances[0])  # First to second distance\n",
    "            if len(distances) >= 2:\n",
    "                second_to_third.append(distances[1])  # Second to third distance\n",
    "\n",
    "        # 📌 Plot 1: First-to-Second Date Distance Distribution\n",
    "        plt.figure(figsize=(10, 5))\n",
    "        sns.histplot(first_to_second, bins=30, kde=True, color=\"blue\", alpha=0.7)\n",
    "        plt.xlabel(\"Days Between First and Second Transactions\")\n",
    "        plt.ylabel(\"Frequency\")\n",
    "        plt.yscale('log')\n",
    "        plt.title(f\"Hyperedge Size {size}: First-to-Second Date Temporal Distances\")\n",
    "        plt.grid(False)\n",
    "        plt.savefig(os.path.join(output_folder, f\"{size}_first_to_second.png\"))\n",
    "        plt.close()\n",
    "\n",
    "        # 📌 Plot 2: Second-to-Third Date Distance Distribution\n",
    "        plt.figure(figsize=(10, 5))\n",
    "        sns.histplot(second_to_third, bins=30, kde=True, color=\"red\", alpha=0.7)\n",
    "        plt.xlabel(\"Days Between Second and Third Transactions\")\n",
    "        plt.ylabel(\"Frequency\")\n",
    "        plt.yscale('log')\n",
    "        plt.title(f\"Hyperedge Size {size}: Second-to-Third Date Temporal Distances\")\n",
    "        plt.grid(False)\n",
    "        plt.savefig(os.path.join(output_folder, f\"{size}_second_to_third.png\"))\n",
    "        plt.close()\n",
    "\n",
    "        print(f\"Plots generated for hyperedge size {size}\")\n",
    "\n",
    "print(\"All plots generated successfully.\")\n"
   ]
  },
  {
   "cell_type": "markdown",
   "metadata": {},
   "source": [
    "### Plot log(X axis)"
   ]
  },
  {
   "cell_type": "code",
   "execution_count": 12,
   "metadata": {},
   "outputs": [
    {
     "name": "stderr",
     "output_type": "stream",
     "text": [
      "c:\\Users\\Neeharika Telu\\anaconda3\\Lib\\site-packages\\seaborn\\_oldcore.py:1119: FutureWarning: use_inf_as_na option is deprecated and will be removed in a future version. Convert inf values to NaN before operating instead.\n",
      "  with pd.option_context('mode.use_inf_as_na', True):\n",
      "c:\\Users\\Neeharika Telu\\anaconda3\\Lib\\site-packages\\seaborn\\_oldcore.py:1119: FutureWarning: use_inf_as_na option is deprecated and will be removed in a future version. Convert inf values to NaN before operating instead.\n",
      "  with pd.option_context('mode.use_inf_as_na', True):\n"
     ]
    },
    {
     "name": "stdout",
     "output_type": "stream",
     "text": [
      "Plots generated for hyperedge size 1\n"
     ]
    },
    {
     "name": "stderr",
     "output_type": "stream",
     "text": [
      "c:\\Users\\Neeharika Telu\\anaconda3\\Lib\\site-packages\\seaborn\\_oldcore.py:1119: FutureWarning: use_inf_as_na option is deprecated and will be removed in a future version. Convert inf values to NaN before operating instead.\n",
      "  with pd.option_context('mode.use_inf_as_na', True):\n",
      "c:\\Users\\Neeharika Telu\\anaconda3\\Lib\\site-packages\\seaborn\\_oldcore.py:1119: FutureWarning: use_inf_as_na option is deprecated and will be removed in a future version. Convert inf values to NaN before operating instead.\n",
      "  with pd.option_context('mode.use_inf_as_na', True):\n"
     ]
    },
    {
     "name": "stdout",
     "output_type": "stream",
     "text": [
      "Plots generated for hyperedge size 2\n"
     ]
    },
    {
     "name": "stderr",
     "output_type": "stream",
     "text": [
      "c:\\Users\\Neeharika Telu\\anaconda3\\Lib\\site-packages\\seaborn\\_oldcore.py:1119: FutureWarning: use_inf_as_na option is deprecated and will be removed in a future version. Convert inf values to NaN before operating instead.\n",
      "  with pd.option_context('mode.use_inf_as_na', True):\n",
      "c:\\Users\\Neeharika Telu\\anaconda3\\Lib\\site-packages\\seaborn\\_oldcore.py:1119: FutureWarning: use_inf_as_na option is deprecated and will be removed in a future version. Convert inf values to NaN before operating instead.\n",
      "  with pd.option_context('mode.use_inf_as_na', True):\n"
     ]
    },
    {
     "name": "stdout",
     "output_type": "stream",
     "text": [
      "Plots generated for hyperedge size 3\n"
     ]
    },
    {
     "name": "stderr",
     "output_type": "stream",
     "text": [
      "c:\\Users\\Neeharika Telu\\anaconda3\\Lib\\site-packages\\seaborn\\_oldcore.py:1119: FutureWarning: use_inf_as_na option is deprecated and will be removed in a future version. Convert inf values to NaN before operating instead.\n",
      "  with pd.option_context('mode.use_inf_as_na', True):\n",
      "c:\\Users\\Neeharika Telu\\anaconda3\\Lib\\site-packages\\seaborn\\_oldcore.py:1119: FutureWarning: use_inf_as_na option is deprecated and will be removed in a future version. Convert inf values to NaN before operating instead.\n",
      "  with pd.option_context('mode.use_inf_as_na', True):\n"
     ]
    },
    {
     "name": "stdout",
     "output_type": "stream",
     "text": [
      "Plots generated for hyperedge size 4\n"
     ]
    },
    {
     "name": "stderr",
     "output_type": "stream",
     "text": [
      "c:\\Users\\Neeharika Telu\\anaconda3\\Lib\\site-packages\\seaborn\\_oldcore.py:1119: FutureWarning: use_inf_as_na option is deprecated and will be removed in a future version. Convert inf values to NaN before operating instead.\n",
      "  with pd.option_context('mode.use_inf_as_na', True):\n",
      "c:\\Users\\Neeharika Telu\\anaconda3\\Lib\\site-packages\\seaborn\\_oldcore.py:1119: FutureWarning: use_inf_as_na option is deprecated and will be removed in a future version. Convert inf values to NaN before operating instead.\n",
      "  with pd.option_context('mode.use_inf_as_na', True):\n"
     ]
    },
    {
     "name": "stdout",
     "output_type": "stream",
     "text": [
      "Plots generated for hyperedge size 5\n"
     ]
    },
    {
     "name": "stderr",
     "output_type": "stream",
     "text": [
      "c:\\Users\\Neeharika Telu\\anaconda3\\Lib\\site-packages\\seaborn\\_oldcore.py:1119: FutureWarning: use_inf_as_na option is deprecated and will be removed in a future version. Convert inf values to NaN before operating instead.\n",
      "  with pd.option_context('mode.use_inf_as_na', True):\n",
      "c:\\Users\\Neeharika Telu\\anaconda3\\Lib\\site-packages\\seaborn\\_oldcore.py:1119: FutureWarning: use_inf_as_na option is deprecated and will be removed in a future version. Convert inf values to NaN before operating instead.\n",
      "  with pd.option_context('mode.use_inf_as_na', True):\n"
     ]
    },
    {
     "name": "stdout",
     "output_type": "stream",
     "text": [
      "Plots generated for hyperedge size 6\n"
     ]
    },
    {
     "name": "stderr",
     "output_type": "stream",
     "text": [
      "c:\\Users\\Neeharika Telu\\anaconda3\\Lib\\site-packages\\seaborn\\_oldcore.py:1119: FutureWarning: use_inf_as_na option is deprecated and will be removed in a future version. Convert inf values to NaN before operating instead.\n",
      "  with pd.option_context('mode.use_inf_as_na', True):\n"
     ]
    },
    {
     "name": "stdout",
     "output_type": "stream",
     "text": [
      "Plots generated for hyperedge size 7\n"
     ]
    },
    {
     "name": "stderr",
     "output_type": "stream",
     "text": [
      "c:\\Users\\Neeharika Telu\\anaconda3\\Lib\\site-packages\\seaborn\\_oldcore.py:1119: FutureWarning: use_inf_as_na option is deprecated and will be removed in a future version. Convert inf values to NaN before operating instead.\n",
      "  with pd.option_context('mode.use_inf_as_na', True):\n",
      "c:\\Users\\Neeharika Telu\\anaconda3\\Lib\\site-packages\\seaborn\\_oldcore.py:1119: FutureWarning: use_inf_as_na option is deprecated and will be removed in a future version. Convert inf values to NaN before operating instead.\n",
      "  with pd.option_context('mode.use_inf_as_na', True):\n"
     ]
    },
    {
     "name": "stdout",
     "output_type": "stream",
     "text": [
      "Plots generated for hyperedge size 8\n"
     ]
    },
    {
     "name": "stderr",
     "output_type": "stream",
     "text": [
      "c:\\Users\\Neeharika Telu\\anaconda3\\Lib\\site-packages\\seaborn\\_oldcore.py:1119: FutureWarning: use_inf_as_na option is deprecated and will be removed in a future version. Convert inf values to NaN before operating instead.\n",
      "  with pd.option_context('mode.use_inf_as_na', True):\n",
      "c:\\Users\\Neeharika Telu\\anaconda3\\Lib\\site-packages\\seaborn\\_oldcore.py:1119: FutureWarning: use_inf_as_na option is deprecated and will be removed in a future version. Convert inf values to NaN before operating instead.\n",
      "  with pd.option_context('mode.use_inf_as_na', True):\n"
     ]
    },
    {
     "name": "stdout",
     "output_type": "stream",
     "text": [
      "Plots generated for hyperedge size 9\n"
     ]
    },
    {
     "name": "stderr",
     "output_type": "stream",
     "text": [
      "c:\\Users\\Neeharika Telu\\anaconda3\\Lib\\site-packages\\seaborn\\_oldcore.py:1119: FutureWarning: use_inf_as_na option is deprecated and will be removed in a future version. Convert inf values to NaN before operating instead.\n",
      "  with pd.option_context('mode.use_inf_as_na', True):\n",
      "c:\\Users\\Neeharika Telu\\anaconda3\\Lib\\site-packages\\seaborn\\_oldcore.py:1119: FutureWarning: use_inf_as_na option is deprecated and will be removed in a future version. Convert inf values to NaN before operating instead.\n",
      "  with pd.option_context('mode.use_inf_as_na', True):\n"
     ]
    },
    {
     "name": "stdout",
     "output_type": "stream",
     "text": [
      "Plots generated for hyperedge size 10\n"
     ]
    },
    {
     "name": "stderr",
     "output_type": "stream",
     "text": [
      "c:\\Users\\Neeharika Telu\\anaconda3\\Lib\\site-packages\\seaborn\\_oldcore.py:1119: FutureWarning: use_inf_as_na option is deprecated and will be removed in a future version. Convert inf values to NaN before operating instead.\n",
      "  with pd.option_context('mode.use_inf_as_na', True):\n"
     ]
    },
    {
     "name": "stdout",
     "output_type": "stream",
     "text": [
      "Plots generated for hyperedge size 11\n"
     ]
    },
    {
     "name": "stderr",
     "output_type": "stream",
     "text": [
      "c:\\Users\\Neeharika Telu\\anaconda3\\Lib\\site-packages\\seaborn\\_oldcore.py:1119: FutureWarning: use_inf_as_na option is deprecated and will be removed in a future version. Convert inf values to NaN before operating instead.\n",
      "  with pd.option_context('mode.use_inf_as_na', True):\n",
      "c:\\Users\\Neeharika Telu\\anaconda3\\Lib\\site-packages\\seaborn\\_oldcore.py:1119: FutureWarning: use_inf_as_na option is deprecated and will be removed in a future version. Convert inf values to NaN before operating instead.\n",
      "  with pd.option_context('mode.use_inf_as_na', True):\n"
     ]
    },
    {
     "name": "stdout",
     "output_type": "stream",
     "text": [
      "Plots generated for hyperedge size 12\n",
      "Plots generated for hyperedge size 13\n"
     ]
    },
    {
     "name": "stderr",
     "output_type": "stream",
     "text": [
      "c:\\Users\\Neeharika Telu\\anaconda3\\Lib\\site-packages\\seaborn\\_oldcore.py:1119: FutureWarning: use_inf_as_na option is deprecated and will be removed in a future version. Convert inf values to NaN before operating instead.\n",
      "  with pd.option_context('mode.use_inf_as_na', True):\n"
     ]
    },
    {
     "name": "stdout",
     "output_type": "stream",
     "text": [
      "Plots generated for hyperedge size 14\n"
     ]
    },
    {
     "name": "stderr",
     "output_type": "stream",
     "text": [
      "c:\\Users\\Neeharika Telu\\anaconda3\\Lib\\site-packages\\seaborn\\_oldcore.py:1119: FutureWarning: use_inf_as_na option is deprecated and will be removed in a future version. Convert inf values to NaN before operating instead.\n",
      "  with pd.option_context('mode.use_inf_as_na', True):\n",
      "c:\\Users\\Neeharika Telu\\anaconda3\\Lib\\site-packages\\seaborn\\_oldcore.py:1119: FutureWarning: use_inf_as_na option is deprecated and will be removed in a future version. Convert inf values to NaN before operating instead.\n",
      "  with pd.option_context('mode.use_inf_as_na', True):\n"
     ]
    },
    {
     "name": "stdout",
     "output_type": "stream",
     "text": [
      "Plots generated for hyperedge size 15\n"
     ]
    },
    {
     "name": "stderr",
     "output_type": "stream",
     "text": [
      "c:\\Users\\Neeharika Telu\\anaconda3\\Lib\\site-packages\\seaborn\\_oldcore.py:1119: FutureWarning: use_inf_as_na option is deprecated and will be removed in a future version. Convert inf values to NaN before operating instead.\n",
      "  with pd.option_context('mode.use_inf_as_na', True):\n"
     ]
    },
    {
     "name": "stdout",
     "output_type": "stream",
     "text": [
      "Plots generated for hyperedge size 16\n"
     ]
    },
    {
     "name": "stderr",
     "output_type": "stream",
     "text": [
      "c:\\Users\\Neeharika Telu\\anaconda3\\Lib\\site-packages\\seaborn\\_oldcore.py:1119: FutureWarning: use_inf_as_na option is deprecated and will be removed in a future version. Convert inf values to NaN before operating instead.\n",
      "  with pd.option_context('mode.use_inf_as_na', True):\n"
     ]
    },
    {
     "name": "stdout",
     "output_type": "stream",
     "text": [
      "Plots generated for hyperedge size 17\n"
     ]
    },
    {
     "name": "stderr",
     "output_type": "stream",
     "text": [
      "c:\\Users\\Neeharika Telu\\anaconda3\\Lib\\site-packages\\seaborn\\_oldcore.py:1119: FutureWarning: use_inf_as_na option is deprecated and will be removed in a future version. Convert inf values to NaN before operating instead.\n",
      "  with pd.option_context('mode.use_inf_as_na', True):\n",
      "c:\\Users\\Neeharika Telu\\anaconda3\\Lib\\site-packages\\seaborn\\_oldcore.py:1119: FutureWarning: use_inf_as_na option is deprecated and will be removed in a future version. Convert inf values to NaN before operating instead.\n",
      "  with pd.option_context('mode.use_inf_as_na', True):\n"
     ]
    },
    {
     "name": "stdout",
     "output_type": "stream",
     "text": [
      "Plots generated for hyperedge size 18\n",
      "Plots generated for hyperedge size 19\n"
     ]
    },
    {
     "name": "stderr",
     "output_type": "stream",
     "text": [
      "c:\\Users\\Neeharika Telu\\anaconda3\\Lib\\site-packages\\seaborn\\_oldcore.py:1119: FutureWarning: use_inf_as_na option is deprecated and will be removed in a future version. Convert inf values to NaN before operating instead.\n",
      "  with pd.option_context('mode.use_inf_as_na', True):\n",
      "c:\\Users\\Neeharika Telu\\anaconda3\\Lib\\site-packages\\seaborn\\_oldcore.py:1119: FutureWarning: use_inf_as_na option is deprecated and will be removed in a future version. Convert inf values to NaN before operating instead.\n",
      "  with pd.option_context('mode.use_inf_as_na', True):\n"
     ]
    },
    {
     "name": "stdout",
     "output_type": "stream",
     "text": [
      "Plots generated for hyperedge size 20\n",
      "Plots generated for hyperedge size 21\n",
      "Plots generated for hyperedge size 22\n"
     ]
    },
    {
     "name": "stderr",
     "output_type": "stream",
     "text": [
      "c:\\Users\\Neeharika Telu\\anaconda3\\Lib\\site-packages\\seaborn\\_oldcore.py:1119: FutureWarning: use_inf_as_na option is deprecated and will be removed in a future version. Convert inf values to NaN before operating instead.\n",
      "  with pd.option_context('mode.use_inf_as_na', True):\n"
     ]
    },
    {
     "name": "stdout",
     "output_type": "stream",
     "text": [
      "Plots generated for hyperedge size 23\n"
     ]
    },
    {
     "name": "stderr",
     "output_type": "stream",
     "text": [
      "c:\\Users\\Neeharika Telu\\anaconda3\\Lib\\site-packages\\seaborn\\_oldcore.py:1119: FutureWarning: use_inf_as_na option is deprecated and will be removed in a future version. Convert inf values to NaN before operating instead.\n",
      "  with pd.option_context('mode.use_inf_as_na', True):\n",
      "c:\\Users\\Neeharika Telu\\anaconda3\\Lib\\site-packages\\seaborn\\_oldcore.py:1119: FutureWarning: use_inf_as_na option is deprecated and will be removed in a future version. Convert inf values to NaN before operating instead.\n",
      "  with pd.option_context('mode.use_inf_as_na', True):\n"
     ]
    },
    {
     "name": "stdout",
     "output_type": "stream",
     "text": [
      "Plots generated for hyperedge size 24\n",
      "Plots generated for hyperedge size 25\n",
      "Plots generated for hyperedge size 26\n",
      "Plots generated for hyperedge size 27\n"
     ]
    },
    {
     "name": "stderr",
     "output_type": "stream",
     "text": [
      "c:\\Users\\Neeharika Telu\\anaconda3\\Lib\\site-packages\\seaborn\\_oldcore.py:1119: FutureWarning: use_inf_as_na option is deprecated and will be removed in a future version. Convert inf values to NaN before operating instead.\n",
      "  with pd.option_context('mode.use_inf_as_na', True):\n"
     ]
    },
    {
     "name": "stdout",
     "output_type": "stream",
     "text": [
      "Plots generated for hyperedge size 28\n",
      "Plots generated for hyperedge size 29\n",
      "Plots generated for hyperedge size 30\n",
      "All plots generated successfully.\n"
     ]
    }
   ],
   "source": [
    "import os\n",
    "import pandas as pd\n",
    "import ast  # To convert string lists into actual lists\n",
    "import matplotlib.pyplot as plt\n",
    "import seaborn as sns\n",
    "\n",
    "# Define input and output directories\n",
    "input_folder = r\"C:\\Users\\Neeharika Telu\\Dropbox\\Mini_clean\\temporal_distances_by_size\"\n",
    "output_folder = r\"C:\\Users\\Neeharika Telu\\Dropbox\\Mini_clean\\temporal_distance_plots_log_x\"\n",
    "\n",
    "# Ensure the output folder exists\n",
    "os.makedirs(output_folder, exist_ok=True)\n",
    "\n",
    "# Process files from 1 to 30 hyperedges\n",
    "for size in range(1, 31):\n",
    "    input_file = os.path.join(input_folder, f\"{size}_temporal_distances.csv\")\n",
    "\n",
    "    # Check if the input file exists\n",
    "    if os.path.exists(input_file):\n",
    "        # Load the dataset\n",
    "        df = pd.read_csv(input_file)\n",
    "\n",
    "        # Convert 'Dates' and 'Temporal_Distance' from string to list\n",
    "        df[\"Dates\"] = df[\"Dates\"].apply(ast.literal_eval)\n",
    "        df[\"Temporal_Distance\"] = df[\"Temporal_Distance\"].apply(ast.literal_eval)\n",
    "\n",
    "        # Lists to store distances\n",
    "        first_to_second = []\n",
    "        second_to_third = []\n",
    "\n",
    "        # Extract first-to-second and second-to-third temporal distances\n",
    "        for distances in df[\"Temporal_Distance\"]:\n",
    "            if len(distances) >= 1:\n",
    "                first_to_second.append(distances[0])  # First to second distance\n",
    "            if len(distances) >= 2:\n",
    "                second_to_third.append(distances[1])  # Second to third distance\n",
    "\n",
    "        # 📌 Plot 1: First-to-Second Date Distance Distribution\n",
    "        plt.figure(figsize=(10, 5))\n",
    "        sns.histplot(first_to_second, bins=30, kde=True, color=\"blue\", alpha=0.7)\n",
    "        plt.xlabel(\"Days Between First and Second Transactions\")\n",
    "        plt.ylabel(\"Frequency\")\n",
    "        plt.xscale('log')\n",
    "        plt.title(f\"Hyperedge Size {size}: First-to-Second Date Temporal Distances\")\n",
    "        plt.grid(False)\n",
    "        plt.savefig(os.path.join(output_folder, f\"{size}_first_to_second.png\"))\n",
    "        plt.close()\n",
    "\n",
    "        # 📌 Plot 2: Second-to-Third Date Distance Distribution\n",
    "        plt.figure(figsize=(10, 5))\n",
    "        sns.histplot(second_to_third, bins=30, kde=True, color=\"red\", alpha=0.7)\n",
    "        plt.xlabel(\"Days Between Second and Third Transactions\")\n",
    "        plt.ylabel(\"Frequency\")\n",
    "        plt.xscale('log')\n",
    "        plt.title(f\"Hyperedge Size {size}: Second-to-Third Date Temporal Distances\")\n",
    "        plt.grid(False)\n",
    "        plt.savefig(os.path.join(output_folder, f\"{size}_second_to_third.png\"))\n",
    "        plt.close()\n",
    "\n",
    "        print(f\"Plots generated for hyperedge size {size}\")\n",
    "\n",
    "print(\"All plots generated successfully.\")\n"
   ]
  },
  {
   "cell_type": "markdown",
   "metadata": {},
   "source": [
    "## Plot x and y"
   ]
  },
  {
   "cell_type": "code",
   "execution_count": 11,
   "metadata": {},
   "outputs": [
    {
     "name": "stderr",
     "output_type": "stream",
     "text": [
      "c:\\Users\\Neeharika Telu\\anaconda3\\Lib\\site-packages\\seaborn\\_oldcore.py:1119: FutureWarning: use_inf_as_na option is deprecated and will be removed in a future version. Convert inf values to NaN before operating instead.\n",
      "  with pd.option_context('mode.use_inf_as_na', True):\n",
      "c:\\Users\\Neeharika Telu\\anaconda3\\Lib\\site-packages\\seaborn\\_oldcore.py:1119: FutureWarning: use_inf_as_na option is deprecated and will be removed in a future version. Convert inf values to NaN before operating instead.\n",
      "  with pd.option_context('mode.use_inf_as_na', True):\n"
     ]
    },
    {
     "name": "stdout",
     "output_type": "stream",
     "text": [
      "Plots generated for hyperedge size 1\n"
     ]
    },
    {
     "name": "stderr",
     "output_type": "stream",
     "text": [
      "c:\\Users\\Neeharika Telu\\anaconda3\\Lib\\site-packages\\seaborn\\_oldcore.py:1119: FutureWarning: use_inf_as_na option is deprecated and will be removed in a future version. Convert inf values to NaN before operating instead.\n",
      "  with pd.option_context('mode.use_inf_as_na', True):\n",
      "c:\\Users\\Neeharika Telu\\anaconda3\\Lib\\site-packages\\seaborn\\_oldcore.py:1119: FutureWarning: use_inf_as_na option is deprecated and will be removed in a future version. Convert inf values to NaN before operating instead.\n",
      "  with pd.option_context('mode.use_inf_as_na', True):\n"
     ]
    },
    {
     "name": "stdout",
     "output_type": "stream",
     "text": [
      "Plots generated for hyperedge size 2\n"
     ]
    },
    {
     "name": "stderr",
     "output_type": "stream",
     "text": [
      "c:\\Users\\Neeharika Telu\\anaconda3\\Lib\\site-packages\\seaborn\\_oldcore.py:1119: FutureWarning: use_inf_as_na option is deprecated and will be removed in a future version. Convert inf values to NaN before operating instead.\n",
      "  with pd.option_context('mode.use_inf_as_na', True):\n",
      "c:\\Users\\Neeharika Telu\\anaconda3\\Lib\\site-packages\\seaborn\\_oldcore.py:1119: FutureWarning: use_inf_as_na option is deprecated and will be removed in a future version. Convert inf values to NaN before operating instead.\n",
      "  with pd.option_context('mode.use_inf_as_na', True):\n"
     ]
    },
    {
     "name": "stdout",
     "output_type": "stream",
     "text": [
      "Plots generated for hyperedge size 3\n"
     ]
    },
    {
     "name": "stderr",
     "output_type": "stream",
     "text": [
      "c:\\Users\\Neeharika Telu\\anaconda3\\Lib\\site-packages\\seaborn\\_oldcore.py:1119: FutureWarning: use_inf_as_na option is deprecated and will be removed in a future version. Convert inf values to NaN before operating instead.\n",
      "  with pd.option_context('mode.use_inf_as_na', True):\n",
      "c:\\Users\\Neeharika Telu\\anaconda3\\Lib\\site-packages\\seaborn\\_oldcore.py:1119: FutureWarning: use_inf_as_na option is deprecated and will be removed in a future version. Convert inf values to NaN before operating instead.\n",
      "  with pd.option_context('mode.use_inf_as_na', True):\n"
     ]
    },
    {
     "name": "stdout",
     "output_type": "stream",
     "text": [
      "Plots generated for hyperedge size 4\n"
     ]
    },
    {
     "name": "stderr",
     "output_type": "stream",
     "text": [
      "c:\\Users\\Neeharika Telu\\anaconda3\\Lib\\site-packages\\seaborn\\_oldcore.py:1119: FutureWarning: use_inf_as_na option is deprecated and will be removed in a future version. Convert inf values to NaN before operating instead.\n",
      "  with pd.option_context('mode.use_inf_as_na', True):\n",
      "c:\\Users\\Neeharika Telu\\anaconda3\\Lib\\site-packages\\seaborn\\_oldcore.py:1119: FutureWarning: use_inf_as_na option is deprecated and will be removed in a future version. Convert inf values to NaN before operating instead.\n",
      "  with pd.option_context('mode.use_inf_as_na', True):\n"
     ]
    },
    {
     "name": "stdout",
     "output_type": "stream",
     "text": [
      "Plots generated for hyperedge size 5\n"
     ]
    },
    {
     "name": "stderr",
     "output_type": "stream",
     "text": [
      "c:\\Users\\Neeharika Telu\\anaconda3\\Lib\\site-packages\\seaborn\\_oldcore.py:1119: FutureWarning: use_inf_as_na option is deprecated and will be removed in a future version. Convert inf values to NaN before operating instead.\n",
      "  with pd.option_context('mode.use_inf_as_na', True):\n",
      "c:\\Users\\Neeharika Telu\\anaconda3\\Lib\\site-packages\\seaborn\\_oldcore.py:1119: FutureWarning: use_inf_as_na option is deprecated and will be removed in a future version. Convert inf values to NaN before operating instead.\n",
      "  with pd.option_context('mode.use_inf_as_na', True):\n"
     ]
    },
    {
     "name": "stdout",
     "output_type": "stream",
     "text": [
      "Plots generated for hyperedge size 6\n"
     ]
    },
    {
     "name": "stderr",
     "output_type": "stream",
     "text": [
      "c:\\Users\\Neeharika Telu\\anaconda3\\Lib\\site-packages\\seaborn\\_oldcore.py:1119: FutureWarning: use_inf_as_na option is deprecated and will be removed in a future version. Convert inf values to NaN before operating instead.\n",
      "  with pd.option_context('mode.use_inf_as_na', True):\n"
     ]
    },
    {
     "name": "stdout",
     "output_type": "stream",
     "text": [
      "Plots generated for hyperedge size 7\n"
     ]
    },
    {
     "name": "stderr",
     "output_type": "stream",
     "text": [
      "c:\\Users\\Neeharika Telu\\anaconda3\\Lib\\site-packages\\seaborn\\_oldcore.py:1119: FutureWarning: use_inf_as_na option is deprecated and will be removed in a future version. Convert inf values to NaN before operating instead.\n",
      "  with pd.option_context('mode.use_inf_as_na', True):\n",
      "c:\\Users\\Neeharika Telu\\anaconda3\\Lib\\site-packages\\seaborn\\_oldcore.py:1119: FutureWarning: use_inf_as_na option is deprecated and will be removed in a future version. Convert inf values to NaN before operating instead.\n",
      "  with pd.option_context('mode.use_inf_as_na', True):\n"
     ]
    },
    {
     "name": "stdout",
     "output_type": "stream",
     "text": [
      "Plots generated for hyperedge size 8\n"
     ]
    },
    {
     "name": "stderr",
     "output_type": "stream",
     "text": [
      "c:\\Users\\Neeharika Telu\\anaconda3\\Lib\\site-packages\\seaborn\\_oldcore.py:1119: FutureWarning: use_inf_as_na option is deprecated and will be removed in a future version. Convert inf values to NaN before operating instead.\n",
      "  with pd.option_context('mode.use_inf_as_na', True):\n",
      "c:\\Users\\Neeharika Telu\\anaconda3\\Lib\\site-packages\\seaborn\\_oldcore.py:1119: FutureWarning: use_inf_as_na option is deprecated and will be removed in a future version. Convert inf values to NaN before operating instead.\n",
      "  with pd.option_context('mode.use_inf_as_na', True):\n"
     ]
    },
    {
     "name": "stdout",
     "output_type": "stream",
     "text": [
      "Plots generated for hyperedge size 9\n"
     ]
    },
    {
     "name": "stderr",
     "output_type": "stream",
     "text": [
      "c:\\Users\\Neeharika Telu\\anaconda3\\Lib\\site-packages\\seaborn\\_oldcore.py:1119: FutureWarning: use_inf_as_na option is deprecated and will be removed in a future version. Convert inf values to NaN before operating instead.\n",
      "  with pd.option_context('mode.use_inf_as_na', True):\n",
      "c:\\Users\\Neeharika Telu\\anaconda3\\Lib\\site-packages\\seaborn\\_oldcore.py:1119: FutureWarning: use_inf_as_na option is deprecated and will be removed in a future version. Convert inf values to NaN before operating instead.\n",
      "  with pd.option_context('mode.use_inf_as_na', True):\n"
     ]
    },
    {
     "name": "stdout",
     "output_type": "stream",
     "text": [
      "Plots generated for hyperedge size 10\n"
     ]
    },
    {
     "name": "stderr",
     "output_type": "stream",
     "text": [
      "c:\\Users\\Neeharika Telu\\anaconda3\\Lib\\site-packages\\seaborn\\_oldcore.py:1119: FutureWarning: use_inf_as_na option is deprecated and will be removed in a future version. Convert inf values to NaN before operating instead.\n",
      "  with pd.option_context('mode.use_inf_as_na', True):\n"
     ]
    },
    {
     "name": "stdout",
     "output_type": "stream",
     "text": [
      "Plots generated for hyperedge size 11\n"
     ]
    },
    {
     "name": "stderr",
     "output_type": "stream",
     "text": [
      "c:\\Users\\Neeharika Telu\\anaconda3\\Lib\\site-packages\\seaborn\\_oldcore.py:1119: FutureWarning: use_inf_as_na option is deprecated and will be removed in a future version. Convert inf values to NaN before operating instead.\n",
      "  with pd.option_context('mode.use_inf_as_na', True):\n",
      "c:\\Users\\Neeharika Telu\\anaconda3\\Lib\\site-packages\\seaborn\\_oldcore.py:1119: FutureWarning: use_inf_as_na option is deprecated and will be removed in a future version. Convert inf values to NaN before operating instead.\n",
      "  with pd.option_context('mode.use_inf_as_na', True):\n"
     ]
    },
    {
     "name": "stdout",
     "output_type": "stream",
     "text": [
      "Plots generated for hyperedge size 12\n",
      "Plots generated for hyperedge size 13\n"
     ]
    },
    {
     "name": "stderr",
     "output_type": "stream",
     "text": [
      "c:\\Users\\Neeharika Telu\\anaconda3\\Lib\\site-packages\\seaborn\\_oldcore.py:1119: FutureWarning: use_inf_as_na option is deprecated and will be removed in a future version. Convert inf values to NaN before operating instead.\n",
      "  with pd.option_context('mode.use_inf_as_na', True):\n"
     ]
    },
    {
     "name": "stdout",
     "output_type": "stream",
     "text": [
      "Plots generated for hyperedge size 14\n"
     ]
    },
    {
     "name": "stderr",
     "output_type": "stream",
     "text": [
      "c:\\Users\\Neeharika Telu\\anaconda3\\Lib\\site-packages\\seaborn\\_oldcore.py:1119: FutureWarning: use_inf_as_na option is deprecated and will be removed in a future version. Convert inf values to NaN before operating instead.\n",
      "  with pd.option_context('mode.use_inf_as_na', True):\n",
      "c:\\Users\\Neeharika Telu\\anaconda3\\Lib\\site-packages\\seaborn\\_oldcore.py:1119: FutureWarning: use_inf_as_na option is deprecated and will be removed in a future version. Convert inf values to NaN before operating instead.\n",
      "  with pd.option_context('mode.use_inf_as_na', True):\n"
     ]
    },
    {
     "name": "stdout",
     "output_type": "stream",
     "text": [
      "Plots generated for hyperedge size 15\n"
     ]
    },
    {
     "name": "stderr",
     "output_type": "stream",
     "text": [
      "c:\\Users\\Neeharika Telu\\anaconda3\\Lib\\site-packages\\seaborn\\_oldcore.py:1119: FutureWarning: use_inf_as_na option is deprecated and will be removed in a future version. Convert inf values to NaN before operating instead.\n",
      "  with pd.option_context('mode.use_inf_as_na', True):\n"
     ]
    },
    {
     "name": "stdout",
     "output_type": "stream",
     "text": [
      "Plots generated for hyperedge size 16\n"
     ]
    },
    {
     "name": "stderr",
     "output_type": "stream",
     "text": [
      "c:\\Users\\Neeharika Telu\\anaconda3\\Lib\\site-packages\\seaborn\\_oldcore.py:1119: FutureWarning: use_inf_as_na option is deprecated and will be removed in a future version. Convert inf values to NaN before operating instead.\n",
      "  with pd.option_context('mode.use_inf_as_na', True):\n"
     ]
    },
    {
     "name": "stdout",
     "output_type": "stream",
     "text": [
      "Plots generated for hyperedge size 17\n"
     ]
    },
    {
     "name": "stderr",
     "output_type": "stream",
     "text": [
      "c:\\Users\\Neeharika Telu\\anaconda3\\Lib\\site-packages\\seaborn\\_oldcore.py:1119: FutureWarning: use_inf_as_na option is deprecated and will be removed in a future version. Convert inf values to NaN before operating instead.\n",
      "  with pd.option_context('mode.use_inf_as_na', True):\n",
      "c:\\Users\\Neeharika Telu\\anaconda3\\Lib\\site-packages\\seaborn\\_oldcore.py:1119: FutureWarning: use_inf_as_na option is deprecated and will be removed in a future version. Convert inf values to NaN before operating instead.\n",
      "  with pd.option_context('mode.use_inf_as_na', True):\n"
     ]
    },
    {
     "name": "stdout",
     "output_type": "stream",
     "text": [
      "Plots generated for hyperedge size 18\n",
      "Plots generated for hyperedge size 19\n"
     ]
    },
    {
     "name": "stderr",
     "output_type": "stream",
     "text": [
      "c:\\Users\\Neeharika Telu\\anaconda3\\Lib\\site-packages\\seaborn\\_oldcore.py:1119: FutureWarning: use_inf_as_na option is deprecated and will be removed in a future version. Convert inf values to NaN before operating instead.\n",
      "  with pd.option_context('mode.use_inf_as_na', True):\n",
      "c:\\Users\\Neeharika Telu\\anaconda3\\Lib\\site-packages\\seaborn\\_oldcore.py:1119: FutureWarning: use_inf_as_na option is deprecated and will be removed in a future version. Convert inf values to NaN before operating instead.\n",
      "  with pd.option_context('mode.use_inf_as_na', True):\n"
     ]
    },
    {
     "name": "stdout",
     "output_type": "stream",
     "text": [
      "Plots generated for hyperedge size 20\n",
      "Plots generated for hyperedge size 21\n",
      "Plots generated for hyperedge size 22\n"
     ]
    },
    {
     "name": "stderr",
     "output_type": "stream",
     "text": [
      "c:\\Users\\Neeharika Telu\\anaconda3\\Lib\\site-packages\\seaborn\\_oldcore.py:1119: FutureWarning: use_inf_as_na option is deprecated and will be removed in a future version. Convert inf values to NaN before operating instead.\n",
      "  with pd.option_context('mode.use_inf_as_na', True):\n"
     ]
    },
    {
     "name": "stdout",
     "output_type": "stream",
     "text": [
      "Plots generated for hyperedge size 23\n"
     ]
    },
    {
     "name": "stderr",
     "output_type": "stream",
     "text": [
      "c:\\Users\\Neeharika Telu\\anaconda3\\Lib\\site-packages\\seaborn\\_oldcore.py:1119: FutureWarning: use_inf_as_na option is deprecated and will be removed in a future version. Convert inf values to NaN before operating instead.\n",
      "  with pd.option_context('mode.use_inf_as_na', True):\n",
      "c:\\Users\\Neeharika Telu\\anaconda3\\Lib\\site-packages\\seaborn\\_oldcore.py:1119: FutureWarning: use_inf_as_na option is deprecated and will be removed in a future version. Convert inf values to NaN before operating instead.\n",
      "  with pd.option_context('mode.use_inf_as_na', True):\n"
     ]
    },
    {
     "name": "stdout",
     "output_type": "stream",
     "text": [
      "Plots generated for hyperedge size 24\n",
      "Plots generated for hyperedge size 25\n",
      "Plots generated for hyperedge size 26\n",
      "Plots generated for hyperedge size 27\n"
     ]
    },
    {
     "name": "stderr",
     "output_type": "stream",
     "text": [
      "c:\\Users\\Neeharika Telu\\anaconda3\\Lib\\site-packages\\seaborn\\_oldcore.py:1119: FutureWarning: use_inf_as_na option is deprecated and will be removed in a future version. Convert inf values to NaN before operating instead.\n",
      "  with pd.option_context('mode.use_inf_as_na', True):\n"
     ]
    },
    {
     "name": "stdout",
     "output_type": "stream",
     "text": [
      "Plots generated for hyperedge size 28\n",
      "Plots generated for hyperedge size 29\n",
      "Plots generated for hyperedge size 30\n",
      "All plots generated successfully.\n"
     ]
    }
   ],
   "source": [
    "import os\n",
    "import pandas as pd\n",
    "import ast  # To convert string lists into actual lists\n",
    "import matplotlib.pyplot as plt\n",
    "import seaborn as sns\n",
    "\n",
    "# Define input and output directories\n",
    "input_folder = r\"C:\\Users\\Neeharika Telu\\Dropbox\\Mini_clean\\temporal_distances_by_size\"\n",
    "output_folder = r\"C:\\Users\\Neeharika Telu\\Dropbox\\Mini_clean\\temporal_distance_plots_log_x_y\"\n",
    "\n",
    "# Ensure the output folder exists\n",
    "os.makedirs(output_folder, exist_ok=True)\n",
    "\n",
    "# Process files from 1 to 30 hyperedges\n",
    "for size in range(1, 31):\n",
    "    input_file = os.path.join(input_folder, f\"{size}_temporal_distances.csv\")\n",
    "\n",
    "    # Check if the input file exists\n",
    "    if os.path.exists(input_file):\n",
    "        # Load the dataset\n",
    "        df = pd.read_csv(input_file)\n",
    "\n",
    "        # Convert 'Dates' and 'Temporal_Distance' from string to list\n",
    "        df[\"Dates\"] = df[\"Dates\"].apply(ast.literal_eval)\n",
    "        df[\"Temporal_Distance\"] = df[\"Temporal_Distance\"].apply(ast.literal_eval)\n",
    "\n",
    "        # Lists to store distances\n",
    "        first_to_second = []\n",
    "        second_to_third = []\n",
    "\n",
    "        # Extract first-to-second and second-to-third temporal distances\n",
    "        for distances in df[\"Temporal_Distance\"]:\n",
    "            if len(distances) >= 1:\n",
    "                first_to_second.append(distances[0])  # First to second distance\n",
    "            if len(distances) >= 2:\n",
    "                second_to_third.append(distances[1])  # Second to third distance\n",
    "\n",
    "        # 📌 Plot 1: First-to-Second Date Distance Distribution\n",
    "        plt.figure(figsize=(10, 5))\n",
    "        sns.histplot(first_to_second, bins=30, kde=True, color=\"blue\", alpha=0.7)\n",
    "        plt.xlabel(\"Days Between First and Second Transactions\")\n",
    "        plt.ylabel(\"Frequency\")\n",
    "        plt.xscale('log')\n",
    "        plt.yscale('log')\n",
    "        plt.title(f\"Hyperedge Size {size}: First-to-Second Date Temporal Distances\")\n",
    "        plt.grid(False)\n",
    "        plt.savefig(os.path.join(output_folder, f\"{size}_first_to_second.png\"))\n",
    "        plt.close()\n",
    "\n",
    "        # 📌 Plot 2: Second-to-Third Date Distance Distribution\n",
    "        plt.figure(figsize=(10, 5))\n",
    "        sns.histplot(second_to_third, bins=30, kde=True, color=\"red\", alpha=0.7)\n",
    "        plt.xlabel(\"Days Between Second and Third Transactions\")\n",
    "        plt.ylabel(\"Frequency\")\n",
    "        plt.xscale('log')\n",
    "        plt.yscale('log')\n",
    "        plt.title(f\"Hyperedge Size {size}: Second-to-Third Date Temporal Distances\")\n",
    "        plt.grid(False)\n",
    "        plt.savefig(os.path.join(output_folder, f\"{size}_second_to_third.png\"))\n",
    "        plt.close()\n",
    "\n",
    "        print(f\"Plots generated for hyperedge size {size}\")\n",
    "\n",
    "print(\"All plots generated successfully.\")\n"
   ]
<<<<<<< HEAD
  },
  {
   "cell_type": "markdown",
   "metadata": {},
   "source": []
=======
>>>>>>> 9d88c03cdba7dc1b6816c8385254bdd7b7bb2ed5
  }
 ],
 "metadata": {
  "kernelspec": {
   "display_name": "base",
   "language": "python",
   "name": "python3"
  },
  "language_info": {
   "codemirror_mode": {
    "name": "ipython",
    "version": 3
   },
   "file_extension": ".py",
   "mimetype": "text/x-python",
   "name": "python",
   "nbconvert_exporter": "python",
   "pygments_lexer": "ipython3",
   "version": "3.11.7"
  }
 },
 "nbformat": 4,
 "nbformat_minor": 2
}
