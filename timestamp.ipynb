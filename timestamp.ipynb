{
 "cells": [
  {
   "cell_type": "code",
   "execution_count": null,
   "metadata": {},
   "outputs": [
    {
     "name": "stderr",
     "output_type": "stream",
     "text": [
      "/tmp/ipykernel_25397/3197853575.py:17: DtypeWarning: Columns (6,8,9) have mixed types. Specify dtype option on import or set low_memory=False.\n",
      "  df = pd.read_csv(file_path, on_bad_lines='skip')\n"
     ]
    },
    {
     "name": "stdout",
     "output_type": "stream",
     "text": [
      "Processed file: /home/prio/loc_project/Mini_2_ERC_721/Data/17000000to17249999_ERC721Transaction.csv\n"
     ]
    },
    {
     "name": "stderr",
     "output_type": "stream",
     "text": [
      "/tmp/ipykernel_25397/3197853575.py:17: DtypeWarning: Columns (6,8,9) have mixed types. Specify dtype option on import or set low_memory=False.\n",
      "  df = pd.read_csv(file_path, on_bad_lines='skip')\n"
     ]
    },
    {
     "name": "stdout",
     "output_type": "stream",
     "text": [
      "Processed file: /home/prio/loc_project/Mini_2_ERC_721/Data/19000000to19249999_ERC721Transaction.csv\n"
     ]
    },
    {
     "name": "stderr",
     "output_type": "stream",
     "text": [
      "/tmp/ipykernel_25397/3197853575.py:17: DtypeWarning: Columns (6,8,9) have mixed types. Specify dtype option on import or set low_memory=False.\n",
      "  df = pd.read_csv(file_path, on_bad_lines='skip')\n"
     ]
    },
    {
     "name": "stdout",
     "output_type": "stream",
     "text": [
      "Processed file: /home/prio/loc_project/Mini_2_ERC_721/Data/17250000to17499999_ERC721Transaction.csv\n"
     ]
    },
    {
     "name": "stderr",
     "output_type": "stream",
     "text": [
      "/tmp/ipykernel_25397/3197853575.py:17: DtypeWarning: Columns (6,8,9) have mixed types. Specify dtype option on import or set low_memory=False.\n",
      "  df = pd.read_csv(file_path, on_bad_lines='skip')\n"
     ]
    },
    {
     "name": "stdout",
     "output_type": "stream",
     "text": [
      "Processed file: /home/prio/loc_project/Mini_2_ERC_721/Data/18000000to18249999_ERC721Transaction.csv\n",
      "Processed file: /home/prio/loc_project/Mini_2_ERC_721/Data/11000000to11999999_ERC721Transaction.csv\n"
     ]
    },
    {
     "name": "stderr",
     "output_type": "stream",
     "text": [
      "/tmp/ipykernel_25397/3197853575.py:17: DtypeWarning: Columns (6,8,9) have mixed types. Specify dtype option on import or set low_memory=False.\n",
      "  df = pd.read_csv(file_path, on_bad_lines='skip')\n"
     ]
    },
    {
     "name": "stdout",
     "output_type": "stream",
     "text": [
      "Processed file: /home/prio/loc_project/Mini_2_ERC_721/Data/18250000to18499999_ERC721Transaction.csv\n"
     ]
    },
    {
     "name": "stderr",
     "output_type": "stream",
     "text": [
      "/tmp/ipykernel_25397/3197853575.py:17: DtypeWarning: Columns (6,8,9) have mixed types. Specify dtype option on import or set low_memory=False.\n",
      "  df = pd.read_csv(file_path, on_bad_lines='skip')\n"
     ]
    },
    {
     "name": "stdout",
     "output_type": "stream",
     "text": [
      "Processed file: /home/prio/loc_project/Mini_2_ERC_721/Data/13500000to13749999_ERC721Transaction.csv\n"
     ]
    },
    {
     "name": "stderr",
     "output_type": "stream",
     "text": [
      "/tmp/ipykernel_25397/3197853575.py:17: DtypeWarning: Columns (6,8,9) have mixed types. Specify dtype option on import or set low_memory=False.\n",
      "  df = pd.read_csv(file_path, on_bad_lines='skip')\n"
     ]
    },
    {
     "name": "stdout",
     "output_type": "stream",
     "text": [
      "Processed file: /home/prio/loc_project/Mini_2_ERC_721/Data/16250000to16499999_ERC721Transaction.csv\n"
     ]
    },
    {
     "name": "stderr",
     "output_type": "stream",
     "text": [
      "/tmp/ipykernel_25397/3197853575.py:17: DtypeWarning: Columns (6,8,9) have mixed types. Specify dtype option on import or set low_memory=False.\n",
      "  df = pd.read_csv(file_path, on_bad_lines='skip')\n"
     ]
    },
    {
     "name": "stdout",
     "output_type": "stream",
     "text": [
      "Processed file: /home/prio/loc_project/Mini_2_ERC_721/Data/14750000to14999999_ERC721Transaction.csv\n",
      "Processed file: /home/prio/loc_project/Mini_2_ERC_721/Data/13250000to13499999_ERC721Transaction.csv\n",
      "Processed file: /home/prio/loc_project/Mini_2_ERC_721/Data/14250000to14499999_ERC721Transaction.csv\n",
      "Processed file: /home/prio/loc_project/Mini_2_ERC_721/Data/9000000to9999999_ERC721Transaction.csv\n",
      "Processed file: /home/prio/loc_project/Mini_2_ERC_721/Data/14000000to14249999_ERC721Transaction.csv\n",
      "Processed file: /home/prio/loc_project/Mini_2_ERC_721/Data/16750000to16999999_ERC721Transaction.csv\n",
      "Processed file: /home/prio/loc_project/Mini_2_ERC_721/Data/12000000to12999999_ERC721Transaction.csv\n",
      "Processed file: /home/prio/loc_project/Mini_2_ERC_721/Data/16000000to16249999_ERC721Transaction.csv\n",
      "Processed file: /home/prio/loc_project/Mini_2_ERC_721/Data/14500000to14749999_ERC721Transaction.csv\n",
      "Processed file: /home/prio/loc_project/Mini_2_ERC_721/Data/13000000to13249999_ERC721Transaction.csv\n",
      "Processed file: /home/prio/loc_project/Mini_2_ERC_721/Data/10000000to10999999_ERC721Transaction.csv\n",
      "Processed file: /home/prio/loc_project/Mini_2_ERC_721/Data/13750000to13999999_ERC721Transaction.csv\n",
      "Processed file: /home/prio/loc_project/Mini_2_ERC_721/Data/18750000to18999999_ERC721Transaction.csv\n",
      "Processed file: /home/prio/loc_project/Mini_2_ERC_721/Data/18500000to18749999_ERC721Transaction.csv\n",
      "Processed file: /home/prio/loc_project/Mini_2_ERC_721/Data/15000000to15249999_ERC721Transaction.csv\n",
      "Processed file: /home/prio/loc_project/Mini_2_ERC_721/Data/15750000to15999999_ERC721Transaction.csv\n",
      "Processed file: /home/prio/loc_project/Mini_2_ERC_721/Data/16500000to16749999_ERC721Transaction.csv\n",
      "Processed file: /home/prio/loc_project/Mini_2_ERC_721/Data/15250000to15499999_ERC721Transaction.csv\n",
      "Processed file: /home/prio/loc_project/Mini_2_ERC_721/Data/17750000to17999999_ERC721Transaction.csv\n",
      "Processed file: /home/prio/loc_project/Mini_2_ERC_721/Data/17500000to17749999_ERC721Transaction.csv\n",
      "Processed file: /home/prio/loc_project/Mini_2_ERC_721/Data/3000000to3999999_ERC721Transaction.csv\n",
      "Processed file: /home/prio/loc_project/Mini_2_ERC_721/Data/1000000to1999999_ERC721Transaction.csv\n",
      "Processed file: /home/prio/loc_project/Mini_2_ERC_721/Data/8000000to8999999_ERC721Transaction.csv\n",
      "Processed file: /home/prio/loc_project/Mini_2_ERC_721/Data/0to999999_ERC721Transaction.csv\n",
      "Processed file: /home/prio/loc_project/Mini_2_ERC_721/Data/2000000to2999999_ERC721Transaction.csv\n",
      "Processed file: /home/prio/loc_project/Mini_2_ERC_721/Data/6000000to6999999_ERC721Transaction.csv\n"
     ]
    },
    {
     "name": "stderr",
     "output_type": "stream",
     "text": [
      "/tmp/ipykernel_25397/3197853575.py:17: DtypeWarning: Columns (8) have mixed types. Specify dtype option on import or set low_memory=False.\n",
      "  df = pd.read_csv(file_path, on_bad_lines='skip')\n"
     ]
    },
    {
     "name": "stdout",
     "output_type": "stream",
     "text": [
      "Processed file: /home/prio/loc_project/Mini_2_ERC_721/Data/5000000to5999999_ERC721Transaction.csv\n",
      "Processed file: /home/prio/loc_project/Mini_2_ERC_721/Data/15500000to15749999_ERC721Transaction.csv\n"
     ]
    },
    {
     "name": "stderr",
     "output_type": "stream",
     "text": [
      "/tmp/ipykernel_25397/3197853575.py:17: DtypeWarning: Columns (8) have mixed types. Specify dtype option on import or set low_memory=False.\n",
      "  df = pd.read_csv(file_path, on_bad_lines='skip')\n"
     ]
    },
    {
     "name": "stdout",
     "output_type": "stream",
     "text": [
      "Processed file: /home/prio/loc_project/Mini_2_ERC_721/Data/4000000to4999999_ERC721Transaction.csv\n",
      "Processed file: /home/prio/loc_project/Mini_2_ERC_721/Data/19250000to19499999_ERC721Transaction.csv\n",
      "Processed file: /home/prio/loc_project/Mini_2_ERC_721/Data/7000000to7999999_ERC721Transaction.csv\n"
     ]
    }
   ],
   "source": [
    "import pandas as pd\n",
    "import os\n",
    "\n",
    "folder_path = '/home/prio/loc_project/Mini_2_ERC_721/Data'  # Replace with your folder path\n",
    "\n",
    "def convert_timestamp(df):\n",
    "    df['timestamp'] = pd.to_datetime(df['timestamp'], unit='s')\n",
    "    df['difftimestamp'] = df['timestamp'].dt.strftime('%d-%m-%y %H:%M:%S')\n",
    "    return df\n",
    "\n",
    "def process_files_in_folder(folder_path):\n",
    "    for file_name in os.listdir(folder_path):\n",
    "        if file_name.endswith('.csv'):\n",
    "            file_path = os.path.join(folder_path, file_name)\n",
    "            try:\n",
    "                # Read the CSV file with error handling\n",
    "                df = pd.read_csv(file_path, on_bad_lines='skip')\n",
    "                # Convert timestamp\n",
    "                df = convert_timestamp(df)\n",
    "                # Save the modified CSV file back to the same location\n",
    "                df.to_csv(file_path, index=False)\n",
    "                print(f\"Processed file: {file_path}\")\n",
    "            except pd.errors.ParserError as e:\n",
    "                print(f\"Error processing file {file_path}: {e}\")\n",
    "\n",
    "process_files_in_folder(folder_path)\n"
   ]
  },
  {
   "cell_type": "code",
   "execution_count": null,
   "metadata": {},
   "outputs": [
    {
     "name": "stderr",
     "output_type": "stream",
     "text": [
      "/tmp/ipykernel_25397/754355042.py:17: DtypeWarning: Columns (6,8,9) have mixed types. Specify dtype option on import or set low_memory=False.\n",
      "  df = pd.read_csv(file_path, on_bad_lines='skip')\n"
     ]
    },
    {
     "name": "stdout",
     "output_type": "stream",
     "text": [
      "Processed file: /home/prio/loc_project/Mini_2_ERC_721/Data/17000000to17249999_ERC721Transaction.csv\n"
     ]
    },
    {
     "name": "stderr",
     "output_type": "stream",
     "text": [
      "/tmp/ipykernel_25397/754355042.py:17: DtypeWarning: Columns (6,8,9) have mixed types. Specify dtype option on import or set low_memory=False.\n",
      "  df = pd.read_csv(file_path, on_bad_lines='skip')\n"
     ]
    },
    {
     "name": "stdout",
     "output_type": "stream",
     "text": [
      "Processed file: /home/prio/loc_project/Mini_2_ERC_721/Data/19000000to19249999_ERC721Transaction.csv\n"
     ]
    },
    {
     "name": "stderr",
     "output_type": "stream",
     "text": [
      "/tmp/ipykernel_25397/754355042.py:17: DtypeWarning: Columns (6,8,9) have mixed types. Specify dtype option on import or set low_memory=False.\n",
      "  df = pd.read_csv(file_path, on_bad_lines='skip')\n"
     ]
    },
    {
     "name": "stdout",
     "output_type": "stream",
     "text": [
      "Processed file: /home/prio/loc_project/Mini_2_ERC_721/Data/17250000to17499999_ERC721Transaction.csv\n"
     ]
    },
    {
     "name": "stderr",
     "output_type": "stream",
     "text": [
      "/tmp/ipykernel_25397/754355042.py:17: DtypeWarning: Columns (6,8,9) have mixed types. Specify dtype option on import or set low_memory=False.\n",
      "  df = pd.read_csv(file_path, on_bad_lines='skip')\n"
     ]
    },
    {
     "name": "stdout",
     "output_type": "stream",
     "text": [
      "Processed file: /home/prio/loc_project/Mini_2_ERC_721/Data/18000000to18249999_ERC721Transaction.csv\n",
      "Processed file: /home/prio/loc_project/Mini_2_ERC_721/Data/11000000to11999999_ERC721Transaction.csv\n"
     ]
    },
    {
     "name": "stderr",
     "output_type": "stream",
     "text": [
      "/tmp/ipykernel_25397/754355042.py:17: DtypeWarning: Columns (6,8,9) have mixed types. Specify dtype option on import or set low_memory=False.\n",
      "  df = pd.read_csv(file_path, on_bad_lines='skip')\n"
     ]
    },
    {
     "name": "stdout",
     "output_type": "stream",
     "text": [
      "Processed file: /home/prio/loc_project/Mini_2_ERC_721/Data/18250000to18499999_ERC721Transaction.csv\n"
     ]
    },
    {
     "name": "stderr",
     "output_type": "stream",
     "text": [
      "/tmp/ipykernel_25397/754355042.py:17: DtypeWarning: Columns (6,8,9) have mixed types. Specify dtype option on import or set low_memory=False.\n",
      "  df = pd.read_csv(file_path, on_bad_lines='skip')\n"
     ]
    },
    {
     "name": "stdout",
     "output_type": "stream",
     "text": [
      "Processed file: /home/prio/loc_project/Mini_2_ERC_721/Data/13500000to13749999_ERC721Transaction.csv\n"
     ]
    },
    {
     "name": "stderr",
     "output_type": "stream",
     "text": [
      "/tmp/ipykernel_25397/754355042.py:17: DtypeWarning: Columns (6,8,9) have mixed types. Specify dtype option on import or set low_memory=False.\n",
      "  df = pd.read_csv(file_path, on_bad_lines='skip')\n"
     ]
    },
    {
     "name": "stdout",
     "output_type": "stream",
     "text": [
      "Processed file: /home/prio/loc_project/Mini_2_ERC_721/Data/16250000to16499999_ERC721Transaction.csv\n"
     ]
    },
    {
     "name": "stderr",
     "output_type": "stream",
     "text": [
      "/tmp/ipykernel_25397/754355042.py:17: DtypeWarning: Columns (6,8,9) have mixed types. Specify dtype option on import or set low_memory=False.\n",
      "  df = pd.read_csv(file_path, on_bad_lines='skip')\n"
     ]
    },
    {
     "name": "stdout",
     "output_type": "stream",
     "text": [
      "Processed file: /home/prio/loc_project/Mini_2_ERC_721/Data/14750000to14999999_ERC721Transaction.csv\n",
      "Processed file: /home/prio/loc_project/Mini_2_ERC_721/Data/13250000to13499999_ERC721Transaction.csv\n",
      "Processed file: /home/prio/loc_project/Mini_2_ERC_721/Data/14250000to14499999_ERC721Transaction.csv\n",
      "Processed file: /home/prio/loc_project/Mini_2_ERC_721/Data/9000000to9999999_ERC721Transaction.csv\n",
      "Processed file: /home/prio/loc_project/Mini_2_ERC_721/Data/14000000to14249999_ERC721Transaction.csv\n",
      "Processed file: /home/prio/loc_project/Mini_2_ERC_721/Data/16750000to16999999_ERC721Transaction.csv\n",
      "Processed file: /home/prio/loc_project/Mini_2_ERC_721/Data/12000000to12999999_ERC721Transaction.csv\n",
      "Processed file: /home/prio/loc_project/Mini_2_ERC_721/Data/16000000to16249999_ERC721Transaction.csv\n",
      "Processed file: /home/prio/loc_project/Mini_2_ERC_721/Data/14500000to14749999_ERC721Transaction.csv\n",
      "Processed file: /home/prio/loc_project/Mini_2_ERC_721/Data/13000000to13249999_ERC721Transaction.csv\n",
      "Processed file: /home/prio/loc_project/Mini_2_ERC_721/Data/10000000to10999999_ERC721Transaction.csv\n",
      "Processed file: /home/prio/loc_project/Mini_2_ERC_721/Data/13750000to13999999_ERC721Transaction.csv\n",
      "Processed file: /home/prio/loc_project/Mini_2_ERC_721/Data/18750000to18999999_ERC721Transaction.csv\n",
      "Processed file: /home/prio/loc_project/Mini_2_ERC_721/Data/18500000to18749999_ERC721Transaction.csv\n",
      "Processed file: /home/prio/loc_project/Mini_2_ERC_721/Data/15000000to15249999_ERC721Transaction.csv\n",
      "Processed file: /home/prio/loc_project/Mini_2_ERC_721/Data/15750000to15999999_ERC721Transaction.csv\n",
      "Processed file: /home/prio/loc_project/Mini_2_ERC_721/Data/16500000to16749999_ERC721Transaction.csv\n",
      "Processed file: /home/prio/loc_project/Mini_2_ERC_721/Data/15250000to15499999_ERC721Transaction.csv\n",
      "Processed file: /home/prio/loc_project/Mini_2_ERC_721/Data/17750000to17999999_ERC721Transaction.csv\n",
      "Processed file: /home/prio/loc_project/Mini_2_ERC_721/Data/17500000to17749999_ERC721Transaction.csv\n",
      "Processed file: /home/prio/loc_project/Mini_2_ERC_721/Data/3000000to3999999_ERC721Transaction.csv\n",
      "Processed file: /home/prio/loc_project/Mini_2_ERC_721/Data/1000000to1999999_ERC721Transaction.csv\n",
      "Processed file: /home/prio/loc_project/Mini_2_ERC_721/Data/8000000to8999999_ERC721Transaction.csv\n",
      "Processed file: /home/prio/loc_project/Mini_2_ERC_721/Data/0to999999_ERC721Transaction.csv\n",
      "Processed file: /home/prio/loc_project/Mini_2_ERC_721/Data/2000000to2999999_ERC721Transaction.csv\n",
      "Processed file: /home/prio/loc_project/Mini_2_ERC_721/Data/6000000to6999999_ERC721Transaction.csv\n"
     ]
    },
    {
     "name": "stderr",
     "output_type": "stream",
     "text": [
      "/tmp/ipykernel_25397/754355042.py:17: DtypeWarning: Columns (8) have mixed types. Specify dtype option on import or set low_memory=False.\n",
      "  df = pd.read_csv(file_path, on_bad_lines='skip')\n"
     ]
    },
    {
     "name": "stdout",
     "output_type": "stream",
     "text": [
      "Processed file: /home/prio/loc_project/Mini_2_ERC_721/Data/5000000to5999999_ERC721Transaction.csv\n",
      "Processed file: /home/prio/loc_project/Mini_2_ERC_721/Data/15500000to15749999_ERC721Transaction.csv\n"
     ]
    },
    {
     "name": "stderr",
     "output_type": "stream",
     "text": [
      "/tmp/ipykernel_25397/754355042.py:17: DtypeWarning: Columns (8) have mixed types. Specify dtype option on import or set low_memory=False.\n",
      "  df = pd.read_csv(file_path, on_bad_lines='skip')\n"
     ]
    },
    {
     "name": "stdout",
     "output_type": "stream",
     "text": [
      "Processed file: /home/prio/loc_project/Mini_2_ERC_721/Data/4000000to4999999_ERC721Transaction.csv\n",
      "Processed file: /home/prio/loc_project/Mini_2_ERC_721/Data/19250000to19499999_ERC721Transaction.csv\n",
      "Processed file: /home/prio/loc_project/Mini_2_ERC_721/Data/7000000to7999999_ERC721Transaction.csv\n"
     ]
    }
   ],
   "source": [
    "import pandas as pd\n",
    "import os\n",
    "\n",
    "folder_path = '/home/prio/loc_project/Data'  # Replace with your folder path\n",
    "\n",
    "def remove_difftimestamp_column(df):\n",
    "    if 'difftimestamp' in df.columns:\n",
    "        df = df.drop(columns=['difftimestamp'])\n",
    "    return df\n",
    "\n",
    "def process_files_in_folder(folder_path):\n",
    "    for file_name in os.listdir(folder_path):\n",
    "        if file_name.endswith('.csv'):\n",
    "            file_path = os.path.join(folder_path, file_name)\n",
    "            try:\n",
    "                # Read the CSV file\n",
    "                df = pd.read_csv(file_path, on_bad_lines='skip')\n",
    "                # Remove the difftimestamp column\n",
    "                df = remove_difftimestamp_column(df)\n",
    "                # Save the modified CSV file back to the same location\n",
    "                df.to_csv(file_path, index=False)\n",
    "                print(f\"Processed file: {file_path}\")\n",
    "            except pd.errors.ParserError as e:\n",
    "                print(f\"Error processing file {file_path}: {e}\")\n",
    "process_files_in_folder(folder_path)"
   ]
  },
  {
   "cell_type": "code",
   "execution_count": 3,
   "metadata": {},
   "outputs": [
    {
     "name": "stdout",
     "output_type": "stream",
     "text": [
      "Error reading /home/prio/loc_project/Data/15250000to15499999_ERC721Transaction.csv: Integer column has NA values in column 1\n"
     ]
    }
   ],
   "source": [
    "import pandas as pd\n",
    "import time\n",
    "import os\n",
    "\n",
    "base = r\"/home/prio/loc_project/Data\"\n",
    "output_directory = r\"/home/prio/loc_project/Mini_2_ERC_721/timestamp_out\"\n",
    "\n",
    "# Create the output directory if it does not exist\n",
    "if not os.path.exists(output_directory):\n",
    "    os.makedirs(output_directory)\n",
    "\n",
    "# Function to convert the format of the timeStamp\n",
    "def time_format(timestamp):\n",
    "    timeArray = time.localtime(timestamp)\n",
    "    otherStyleTime = time.strftime(\"%Y--%m--%d %H:%M:%S\", timeArray)\n",
    "    return otherStyleTime\n",
    "\n",
    "# Define a dictionary for data types\n",
    "dtype_dict = {\n",
    "    'blockNumber': 'int64',\n",
    "    'timestamp': 'int64',\n",
    "    'transactionHash': 'object',\n",
    "    'tokenAddress': 'object',\n",
    "    'from': 'object',\n",
    "    'to': 'object',\n",
    "    'fromIsContract': 'object',  # Read as object initially\n",
    "    'toIsContract': 'object',    # Read as object initially\n",
    "    'tokenId': 'object'          # Keep as object to handle mixed types\n",
    "}\n",
    "\n",
    "# Function to process and save a single chunk\n",
    "def process_chunk(chunk, output_filepath):\n",
    "    # Convert boolean columns\n",
    "    chunk['fromIsContract'] = chunk['fromIsContract'].astype(bool)\n",
    "    chunk['toIsContract'] = chunk['toIsContract'].astype(bool)\n",
    "\n",
    "    # Apply the time_format function to the 'timestamp' column\n",
    "    chunk['diffTimeStamp'] = chunk['timestamp'].apply(time_format)\n",
    "\n",
    "    # Reorder the columns\n",
    "    chunk = chunk.reindex(columns=['blockNumber', 'timestamp', 'diffTimeStamp', 'transactionHash', 'tokenAddress', 'from', 'to', 'fromIsContract', 'toIsContract', 'tokenId'])\n",
    "\n",
    "    # Append to the output file\n",
    "    chunk.to_csv(output_filepath, mode='a', index=False, header=not os.path.exists(output_filepath))\n",
    "\n",
    "# Iterate over all files in the input directory\n",
    "for filename in os.listdir(base):\n",
    "    f = os.path.join(base, filename)\n",
    "\n",
    "    new_filename = os.path.splitext(filename)[0] + '.csv'\n",
    "    new_filepath = os.path.join(output_directory, new_filename)\n",
    "\n",
    "    # Remove the output file if it already exists\n",
    "    if os.path.exists(new_filepath):\n",
    "        os.remove(new_filepath)\n",
    "\n",
    "\n",
    "    # Read and process the CSV file in chunks\n",
    "    try:\n",
    "        chunk_size = 100000  # Adjust the chunk size based on your system's memory capacity\n",
    "        for chunk in pd.read_csv(f, dtype=dtype_dict, low_memory=False, chunksize=chunk_size):\n",
    "            process_chunk(chunk, new_filepath)\n",
    "    except Exception as e:\n",
    "        print(f\"Error reading {f}: {e}\")"
   ]
  },
  {
   "cell_type": "code",
   "execution_count": 4,
   "metadata": {},
   "outputs": [
    {
     "name": "stdout",
     "output_type": "stream",
     "text": [
      "Processed 17000000to17249999_ERC721Transaction.csv and saved to /home/prio/loc_project/Mini_2_ERC_721/timestamp_out/17000000to17249999_ERC721Transaction.csv\n"
     ]
    },
    {
     "name": "stderr",
     "output_type": "stream",
     "text": [
      "/tmp/ipykernel_4994/98457622.py:29: DtypeWarning: Columns (8) have mixed types. Specify dtype option on import or set low_memory=False.\n",
      "  df = pd.read_csv(file_path)\n"
     ]
    },
    {
     "name": "stdout",
     "output_type": "stream",
     "text": [
      "Processed 19000000to19249999_ERC721Transaction.csv and saved to /home/prio/loc_project/Mini_2_ERC_721/timestamp_out/19000000to19249999_ERC721Transaction.csv\n",
      "Processed 17250000to17499999_ERC721Transaction.csv and saved to /home/prio/loc_project/Mini_2_ERC_721/timestamp_out/17250000to17499999_ERC721Transaction.csv\n",
      "Processed 18000000to18249999_ERC721Transaction.csv and saved to /home/prio/loc_project/Mini_2_ERC_721/timestamp_out/18000000to18249999_ERC721Transaction.csv\n",
      "Processed 11000000to11999999_ERC721Transaction.csv and saved to /home/prio/loc_project/Mini_2_ERC_721/timestamp_out/11000000to11999999_ERC721Transaction.csv\n",
      "Processed 18250000to18499999_ERC721Transaction.csv and saved to /home/prio/loc_project/Mini_2_ERC_721/timestamp_out/18250000to18499999_ERC721Transaction.csv\n",
      "Processed 13500000to13749999_ERC721Transaction.csv and saved to /home/prio/loc_project/Mini_2_ERC_721/timestamp_out/13500000to13749999_ERC721Transaction.csv\n",
      "Processed 16250000to16499999_ERC721Transaction.csv and saved to /home/prio/loc_project/Mini_2_ERC_721/timestamp_out/16250000to16499999_ERC721Transaction.csv\n",
      "Processed 14750000to14999999_ERC721Transaction.csv and saved to /home/prio/loc_project/Mini_2_ERC_721/timestamp_out/14750000to14999999_ERC721Transaction.csv\n",
      "Processed 13250000to13499999_ERC721Transaction.csv and saved to /home/prio/loc_project/Mini_2_ERC_721/timestamp_out/13250000to13499999_ERC721Transaction.csv\n",
      "Processed 14250000to14499999_ERC721Transaction.csv and saved to /home/prio/loc_project/Mini_2_ERC_721/timestamp_out/14250000to14499999_ERC721Transaction.csv\n",
      "Processed 9000000to9999999_ERC721Transaction.csv and saved to /home/prio/loc_project/Mini_2_ERC_721/timestamp_out/9000000to9999999_ERC721Transaction.csv\n",
      "Processed 14000000to14249999_ERC721Transaction.csv and saved to /home/prio/loc_project/Mini_2_ERC_721/timestamp_out/14000000to14249999_ERC721Transaction.csv\n",
      "Processed 16750000to16999999_ERC721Transaction.csv and saved to /home/prio/loc_project/Mini_2_ERC_721/timestamp_out/16750000to16999999_ERC721Transaction.csv\n",
      "Processed 12000000to12999999_ERC721Transaction.csv and saved to /home/prio/loc_project/Mini_2_ERC_721/timestamp_out/12000000to12999999_ERC721Transaction.csv\n",
      "Processed 16000000to16249999_ERC721Transaction.csv and saved to /home/prio/loc_project/Mini_2_ERC_721/timestamp_out/16000000to16249999_ERC721Transaction.csv\n",
      "Processed 14500000to14749999_ERC721Transaction.csv and saved to /home/prio/loc_project/Mini_2_ERC_721/timestamp_out/14500000to14749999_ERC721Transaction.csv\n",
      "Processed 13000000to13249999_ERC721Transaction.csv and saved to /home/prio/loc_project/Mini_2_ERC_721/timestamp_out/13000000to13249999_ERC721Transaction.csv\n",
      "Processed 10000000to10999999_ERC721Transaction.csv and saved to /home/prio/loc_project/Mini_2_ERC_721/timestamp_out/10000000to10999999_ERC721Transaction.csv\n",
      "Processed 13750000to13999999_ERC721Transaction.csv and saved to /home/prio/loc_project/Mini_2_ERC_721/timestamp_out/13750000to13999999_ERC721Transaction.csv\n",
      "Processed 18750000to18999999_ERC721Transaction.csv and saved to /home/prio/loc_project/Mini_2_ERC_721/timestamp_out/18750000to18999999_ERC721Transaction.csv\n",
      "Processed 18500000to18749999_ERC721Transaction.csv and saved to /home/prio/loc_project/Mini_2_ERC_721/timestamp_out/18500000to18749999_ERC721Transaction.csv\n",
      "Processed 15000000to15249999_ERC721Transaction.csv and saved to /home/prio/loc_project/Mini_2_ERC_721/timestamp_out/15000000to15249999_ERC721Transaction.csv\n",
      "Processed 15750000to15999999_ERC721Transaction.csv and saved to /home/prio/loc_project/Mini_2_ERC_721/timestamp_out/15750000to15999999_ERC721Transaction.csv\n",
      "Processed 16500000to16749999_ERC721Transaction.csv and saved to /home/prio/loc_project/Mini_2_ERC_721/timestamp_out/16500000to16749999_ERC721Transaction.csv\n",
      "Processed 15250000to15499999_ERC721Transaction.csv and saved to /home/prio/loc_project/Mini_2_ERC_721/timestamp_out/15250000to15499999_ERC721Transaction.csv\n",
      "Processed 17750000to17999999_ERC721Transaction.csv and saved to /home/prio/loc_project/Mini_2_ERC_721/timestamp_out/17750000to17999999_ERC721Transaction.csv\n",
      "Processed 17500000to17749999_ERC721Transaction.csv and saved to /home/prio/loc_project/Mini_2_ERC_721/timestamp_out/17500000to17749999_ERC721Transaction.csv\n",
      "Processed 3000000to3999999_ERC721Transaction.csv and saved to /home/prio/loc_project/Mini_2_ERC_721/timestamp_out/3000000to3999999_ERC721Transaction.csv\n",
      "Processed 1000000to1999999_ERC721Transaction.csv and saved to /home/prio/loc_project/Mini_2_ERC_721/timestamp_out/1000000to1999999_ERC721Transaction.csv\n",
      "Processed 8000000to8999999_ERC721Transaction.csv and saved to /home/prio/loc_project/Mini_2_ERC_721/timestamp_out/8000000to8999999_ERC721Transaction.csv\n",
      "Processed 0to999999_ERC721Transaction.csv and saved to /home/prio/loc_project/Mini_2_ERC_721/timestamp_out/0to999999_ERC721Transaction.csv\n",
      "Processed 2000000to2999999_ERC721Transaction.csv and saved to /home/prio/loc_project/Mini_2_ERC_721/timestamp_out/2000000to2999999_ERC721Transaction.csv\n",
      "Processed 6000000to6999999_ERC721Transaction.csv and saved to /home/prio/loc_project/Mini_2_ERC_721/timestamp_out/6000000to6999999_ERC721Transaction.csv\n"
     ]
    },
    {
     "name": "stderr",
     "output_type": "stream",
     "text": [
      "/tmp/ipykernel_4994/98457622.py:29: DtypeWarning: Columns (8) have mixed types. Specify dtype option on import or set low_memory=False.\n",
      "  df = pd.read_csv(file_path)\n"
     ]
    },
    {
     "name": "stdout",
     "output_type": "stream",
     "text": [
      "Processed 5000000to5999999_ERC721Transaction.csv and saved to /home/prio/loc_project/Mini_2_ERC_721/timestamp_out/5000000to5999999_ERC721Transaction.csv\n",
      "Processed 15500000to15749999_ERC721Transaction.csv and saved to /home/prio/loc_project/Mini_2_ERC_721/timestamp_out/15500000to15749999_ERC721Transaction.csv\n"
     ]
    },
    {
     "name": "stderr",
     "output_type": "stream",
     "text": [
      "/tmp/ipykernel_4994/98457622.py:29: DtypeWarning: Columns (8) have mixed types. Specify dtype option on import or set low_memory=False.\n",
      "  df = pd.read_csv(file_path)\n"
     ]
    },
    {
     "name": "stdout",
     "output_type": "stream",
     "text": [
      "Processed 4000000to4999999_ERC721Transaction.csv and saved to /home/prio/loc_project/Mini_2_ERC_721/timestamp_out/4000000to4999999_ERC721Transaction.csv\n",
      "Processed 19250000to19499999_ERC721Transaction.csv and saved to /home/prio/loc_project/Mini_2_ERC_721/timestamp_out/19250000to19499999_ERC721Transaction.csv\n",
      "Processed 7000000to7999999_ERC721Transaction.csv and saved to /home/prio/loc_project/Mini_2_ERC_721/timestamp_out/7000000to7999999_ERC721Transaction.csv\n"
     ]
    }
   ],
   "source": [
    "import pandas as pd\n",
    "import os\n",
    "import time\n",
    "import numpy as np\n",
    "\n",
    "base = r\"/home/prio/loc_project/Data\"\n",
    "output_directory = r\"/home/prio/loc_project/Mini_2_ERC_721/timestamp_out\"\n",
    "\n",
    "# Create the output directory if it does not exist\n",
    "if not os.path.exists(output_directory):\n",
    "    os.makedirs(output_directory)\n",
    "\n",
    "# Function to convert the format of the timestamp\n",
    "def time_format(timestamp):\n",
    "    if pd.isna(timestamp):\n",
    "        return timestamp  # Return NaN as is\n",
    "    try:\n",
    "        # Convert Unix timestamp to local time\n",
    "        timeArray = time.localtime(timestamp)\n",
    "        return time.strftime(\"%Y--%m--%d %H:%M:%S\", timeArray)\n",
    "    except (TypeError, ValueError):\n",
    "        return timestamp  # Return the original value if there is an error\n",
    "\n",
    "# Iterate through all files in the base directory\n",
    "for filename in os.listdir(base):\n",
    "    if filename.endswith(\".csv\"):\n",
    "        # Load the CSV file into a DataFrame\n",
    "        file_path = os.path.join(base, filename)\n",
    "        df = pd.read_csv(file_path)\n",
    "\n",
    "        # Convert the timestamp column using the time_format function\n",
    "        df['timestamp'] = df['timestamp'].apply(time_format)\n",
    "\n",
    "        # Save the updated DataFrame to the output directory\n",
    "        output_file_path = os.path.join(output_directory, filename)\n",
    "        df.to_csv(output_file_path, index=False)\n",
    "\n",
    "        print(f\"Processed {filename} and saved to {output_file_path}\")\n",
    "# \"0x480a93081ce13050b7a89ca5bb315b87e36905de\": 3400, \n",
    "# \"0x57f1887a8bf19b14fc0df6fd9b2acc9af147ea85\": 3400, "
   ]
  }
 ],
 "metadata": {
  "kernelspec": {
   "display_name": "Python 3",
   "language": "python",
   "name": "python3"
  },
  "language_info": {
   "codemirror_mode": {
    "name": "ipython",
    "version": 3
   },
   "file_extension": ".py",
   "mimetype": "text/x-python",
   "name": "python",
   "nbconvert_exporter": "python",
   "pygments_lexer": "ipython3",
   "version": "3.10.12"
  }
 },
 "nbformat": 4,
 "nbformat_minor": 2
}
