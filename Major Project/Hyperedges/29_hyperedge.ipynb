{
 "cells": [
  {
   "cell_type": "markdown",
   "metadata": {},
   "source": [
    "## 29 Hyperedge"
   ]
  },
  {
   "cell_type": "code",
   "execution_count": 1,
   "metadata": {},
   "outputs": [
    {
     "name": "stdout",
     "output_type": "stream",
     "text": [
      "Extraction completed. Data saved in 29_hyperedges_data.csv\n"
     ]
    }
   ],
   "source": [
    "import os\n",
    "import json\n",
    "import csv\n",
    "\n",
    "# Define the input folder path and output file\n",
    "input_folder = r\"C:\\Users\\Neeharika Telu\\Dropbox\\Mini_clean\\hypergraph_everyday_Null_clean\"\n",
    "output_file = \"29_hyperedges_data.csv\"\n",
    "\n",
    "# Open the output CSV file for writing\n",
    "with open(output_file, mode='w', newline='') as csvfile:\n",
    "    writer = csv.writer(csvfile)\n",
    "    writer.writerow([\"Date\", \"Token\", \"Nodes\"])\n",
    "    \n",
    "    # Iterate through each file in the folder\n",
    "    for filename in sorted(os.listdir(input_folder)):\n",
    "        if filename.endswith(\".json\"):  # Ensure it's a JSON file\n",
    "            file_path = os.path.join(input_folder, filename)\n",
    "            \n",
    "            # Extract date from filename (assuming format: hypergraph_YYYY-MM-DD.json)\n",
    "            date = filename.replace(\"hypergraph_\", \"\").replace(\".json\", \"\")\n",
    "            \n",
    "            try:\n",
    "                # Read JSON file\n",
    "                with open(file_path, 'r') as file:\n",
    "                    data = json.load(file)\n",
    "                \n",
    "                # Extract 5-hyperedges (tokens with exactly 5 nodes)\n",
    "                for token, nodes in data.items():\n",
    "                    if isinstance(nodes, list) and len(nodes) == 29:\n",
    "                        writer.writerow([date, token, json.dumps(nodes)])\n",
    "            except Exception as e:\n",
    "                print(f\"Error processing file {filename}: {e}\")\n",
    "\n",
    "print(f\"Extraction completed. Data saved in {output_file}\")\n"
   ]
  },
  {
   "cell_type": "code",
   "execution_count": 2,
   "metadata": {},
   "outputs": [
    {
     "name": "stdout",
     "output_type": "stream",
     "text": [
      "Processing complete. Check 4_hyperedges_occurrences.csv in SEM_8 Major Project folder.\n"
     ]
    }
   ],
   "source": [
    "import csv\n",
    "from collections import defaultdict\n",
    "\n",
    "# Define file paths\n",
    "input_file = r\"C:\\Users\\Neeharika Telu\\Dropbox\\Mini_clean\\29_hyperedges_data.csv\"\n",
    "output_file = r\"D:\\SEM_8\\Major Project\\29_hyperedges_occurrences.csv\"\n",
    "\n",
    "# Dictionary to store occurrences\n",
    "hyperedge_dict = defaultdict(list)\n",
    "\n",
    "# Read input file\n",
    "with open(input_file, \"r\") as infile:\n",
    "    reader = csv.reader(infile)\n",
    "    header = next(reader)  # Read header\n",
    "    \n",
    "    for row in reader:\n",
    "        date = row[0]\n",
    "        token = row[1]\n",
    "        nodes = row[2]\n",
    "        \n",
    "        # Store date occurrences per (token, nodes)\n",
    "        hyperedge_dict[(token, nodes)].append(date)\n",
    "\n",
    "# Write output file\n",
    "with open(output_file, \"w\", newline=\"\") as outfile:\n",
    "    writer = csv.writer(outfile)\n",
    "    writer.writerow([\"Token\", \"Nodes\", \"Dates\"])\n",
    "    \n",
    "    for (token, nodes), dates in hyperedge_dict.items():\n",
    "        writer.writerow([token, nodes, \", \".join(dates)])\n",
    "\n",
    "print(\"Processing complete. Check 4_hyperedges_occurrences.csv in SEM_8 Major Project folder.\")\n"
   ]
  },
  {
   "cell_type": "code",
   "execution_count": 3,
   "metadata": {},
   "outputs": [
    {
     "name": "stdout",
     "output_type": "stream",
     "text": [
      "Repeated tokens and nodes with dates have been successfully saved to CSV.\n"
     ]
    }
   ],
   "source": [
    "import csv\n",
    "from collections import defaultdict\n",
    "\n",
    "# Input file (your CSV data)\n",
    "input_file = r\"C:\\Users\\Neeharika Telu\\Dropbox\\Mini_clean\\29_hyperedges_data.csv\"\n",
    "\n",
    "# Dictionary to store token-wise node sets and their occurrence dates\n",
    "token_nodes_date_map = defaultdict(lambda: defaultdict(list))\n",
    "\n",
    "# Read the CSV file and collect tokens, node sets, and corresponding dates\n",
    "with open(input_file, 'r') as csvfile:\n",
    "    reader = csv.DictReader(csvfile)\n",
    "    \n",
    "    for row in reader:\n",
    "        token = row['Token']\n",
    "        date = row['Date']\n",
    "        nodes = tuple(sorted(eval(row['Nodes'])))  # Convert the nodes string to a sorted tuple to ensure exact matching\n",
    "        \n",
    "        # Store the date where this token had this exact set of nodes\n",
    "        token_nodes_date_map[token][nodes].append(date)\n",
    "\n",
    "# Find tokens and node sets that have been repeated on different days\n",
    "repeated_tokens_data = []\n",
    "for token, nodes_dates in token_nodes_date_map.items():\n",
    "    for nodes, dates in nodes_dates.items():\n",
    "        if len(dates) >= 1:  # If the same set of nodes appeared on multiple dates\n",
    "            repeated_tokens_data.append({\n",
    "                'Token': token,\n",
    "                'Nodes': nodes,\n",
    "                'Dates': dates\n",
    "            })\n",
    "\n",
    "# Output the repeated tokens and their occurrence dates\n",
    "output_file = r\"D:\\SEM_8\\Major Project\\29_hyperedges_repeated_tokens.csv\"\n",
    "\n",
    "# Write the result to a CSV file\n",
    "with open(output_file, 'w', newline='') as csvfile:\n",
    "    fieldnames = ['Token', 'Nodes', 'Dates']\n",
    "    writer = csv.DictWriter(csvfile, fieldnames=fieldnames)\n",
    "    \n",
    "    # Write the header\n",
    "    writer.writeheader()\n",
    "    \n",
    "    # Write the repeated tokens, nodes, and their occurrence dates\n",
    "    for entry in repeated_tokens_data:\n",
    "        writer.writerow({\n",
    "            'Token': entry['Token'],\n",
    "            'Nodes': entry['Nodes'],\n",
    "            'Dates': \", \".join(entry['Dates'])  # Convert the list of dates to a comma-separated string\n",
    "        })\n",
    "\n",
    "print(\"Repeated tokens and nodes with dates have been successfully saved to CSV.\")\n"
   ]
  },
  {
   "cell_type": "markdown",
   "metadata": {},
   "source": [
    "## Smart and Non smart Nodes in Hyperedge "
   ]
  },
  {
   "cell_type": "code",
   "execution_count": 4,
   "metadata": {},
   "outputs": [
    {
     "name": "stdout",
     "output_type": "stream",
     "text": [
      "Processing complete. Check output.csv\n"
     ]
    }
   ],
   "source": [
    "\n",
    "import csv\n",
    "\n",
    "# Define file paths\n",
    "non_smart_file = r\"D:\\SEM_8\\Major Project\\df_nonsmart_combined_unique.csv\"\n",
    "smart_file = r\"D:\\SEM_8\\Major Project\\df_smart_combined_unique.csv\"\n",
    "input_file = r\"D:\\SEM_8\\Major Project\\29_hyperedges_repeated_tokens.csv\"\n",
    "output_file = r\"D:\\SEM_8\\Major Project\\smart_filtered_29_output.csv\"\n",
    "\n",
    "# Load non-smart contract addresses\n",
    "with open(non_smart_file, \"r\") as f:\n",
    "    next(f)  # Skip header\n",
    "    non_smart_contracts = set(int(line.strip()) for line in f)\n",
    "\n",
    "# Load smart contract addresses\n",
    "with open(smart_file, \"r\") as f:\n",
    "    next(f)  # Skip header\n",
    "    smart_contracts = set(int(line.strip()) for line in f)\n",
    "\n",
    "# Read the input CSV file and process\n",
    "with open(input_file, \"r\") as infile, open(output_file, \"w\", newline=\"\") as outfile:\n",
    "    reader = csv.reader(infile)\n",
    "    writer = csv.writer(outfile)\n",
    "    \n",
    "    # Write header\n",
    "    header = next(reader)\n",
    "    writer.writerow(header[:2] + [\"Smart_Contract_Flags\"] + [header[2]])\n",
    "    \n",
    "    for row in reader:\n",
    "        token = row[0]\n",
    "        nodes = eval(row[1])  # Convert string tuple to actual tuple\n",
    "        dates = row[2]\n",
    "        \n",
    "        # Check if nodes are smart contracts\n",
    "        flags = tuple(1 if int(node) in smart_contracts else 0 for node in nodes)\n",
    "        \n",
    "        # Write updated row\n",
    "        writer.writerow([token, row[1], str(flags), dates])\n",
    "\n",
    "print(\"Processing complete. Check output.csv\")\n"
   ]
  },
  {
   "cell_type": "markdown",
   "metadata": {},
   "source": [
    "## Temporal Distance "
   ]
  },
  {
   "cell_type": "code",
   "execution_count": 5,
   "metadata": {},
   "outputs": [
    {
     "name": "stdout",
     "output_type": "stream",
     "text": [
      "Temporal distances saved to: D:\\SEM_8\\Major Project\\temporal_distances_29_output.csv\n"
     ]
    }
   ],
   "source": [
    "import pandas as pd\n",
    "\n",
    "# Input file path\n",
    "input_file = r\"D:\\SEM_8\\Major Project\\smart_filtered_29_output.csv\"\n",
    "\n",
    "# Read CSV file\n",
    "df = pd.read_csv(input_file)\n",
    "\n",
    "# Ensure Dates column is properly processed by stripping spaces and converting to datetime\n",
    "df['Dates'] = df['Dates'].apply(lambda x: sorted(pd.to_datetime([date.strip() for date in x.split(',')])))\n",
    "\n",
    "# Function to compute temporal distances\n",
    "def calculate_temporal_distances(dates):\n",
    "    return [abs((dates[i] - dates[i-1]).days) for i in range(1, len(dates))]\n",
    "\n",
    "# Compute temporal distances\n",
    "df['Temporal_Distance'] = df['Dates'].apply(lambda x: calculate_temporal_distances(x))\n",
    "\n",
    "# Convert dates to \"YYYY-MM-DD\" format (remove timestamps)\n",
    "df['Dates'] = df['Dates'].apply(lambda x: str([date.strftime(\"%Y-%m-%d\") for date in x]))\n",
    "\n",
    "# Convert the list of temporal distances to a string format\n",
    "df['Temporal_Distance'] = df['Temporal_Distance'].apply(lambda x: str(x))\n",
    "\n",
    "# Save to output CSV file\n",
    "output_file = r\"D:\\SEM_8\\Major Project\\temporal_distances_29_output.csv\"\n",
    "df.to_csv(output_file, index=False)\n",
    "\n",
    "print(f\"Temporal distances saved to: {output_file}\")\n"
   ]
  },
  {
   "cell_type": "code",
   "execution_count": 1,
   "metadata": {},
   "outputs": [
    {
     "data": {
      "image/png": "[encoded data removed]",
      "text/plain": [
       "<Figure size 1000x500 with 1 Axes>"
      ]
     },
     "metadata": {},
     "output_type": "display_data"
    },
    {
     "data": {
      "image/png": "[encoded data removed]",
      "text/plain": [
       "<Figure size 1000x500 with 1 Axes>"
      ]
     },
     "metadata": {},
     "output_type": "display_data"
    }
   ],
   "source": [
    "import pandas as pd\n",
    "import ast  # To convert string list into actual list\n",
    "import matplotlib.pyplot as plt\n",
    "import seaborn as sns\n",
    "\n",
    "# Load the dataset\n",
    "file_path = r\"D:\\SEM_8\\Major Project\\temporal_distances_29_output.csv\"\n",
    "df = pd.read_csv(file_path)\n",
    "\n",
    "# Convert 'Dates' and 'Temporal_Distance' columns from string to list\n",
    "df[\"Dates\"] = df[\"Dates\"].apply(ast.literal_eval)\n",
    "df[\"Temporal_Distance\"] = df[\"Temporal_Distance\"].apply(ast.literal_eval)\n",
    "\n",
    "# Lists to store distances\n",
    "first_to_second = []\n",
    "second_to_third = []\n",
    "\n",
    "# Extract the first-to-second and second-to-third temporal distances\n",
    "for distances in df[\"Temporal_Distance\"]:\n",
    "    if len(distances) >= 1:  \n",
    "        first_to_second.append(distances[0])  # First to second distance\n",
    "    if len(distances) >= 2:  \n",
    "        second_to_third.append(distances[1])  # Second to third distance\n",
    "\n",
    "# 📌 Plot 1: First-to-Second Date Distance Distribution\n",
    "plt.figure(figsize=(10, 5))\n",
    "sns.histplot(first_to_second, bins=30, kde=True, color=\"blue\", alpha=0.7)\n",
    "plt.xlabel(\"Days Between First and Second Transactions\")\n",
    "plt.ylabel(\"Frequency\")\n",
    "plt.title(\"Distribution of First-to-Second Date Temporal Distances\")\n",
    "# plt.grid(True, linestyle=\"--\", alpha=0.5)\n",
    "plt.grid(False)\n",
    "plt.show()\n",
    "\n",
    "# 📌 Plot 2: Second-to-Third Date Distance Distribution\n",
    "plt.figure(figsize=(10, 5))\n",
    "sns.histplot(second_to_third, bins=30, kde=True, color=\"red\", alpha=0.7)\n",
    "plt.xlabel(\"Days Between Second and Third Transactions\")\n",
    "plt.ylabel(\"Frequency\")\n",
    "plt.title(\"Distribution of Second-to-Third Date Temporal Distances\")\n",
    "# plt.grid(True, linestyle=\"--\", alpha=0.5)\n",
    "plt.grid(False)\n",
    "plt.show()\n"
   ]
  }
 ],
 "metadata": {
  "kernelspec": {
   "display_name": "base",
   "language": "python",
   "name": "python3"
  },
  "language_info": {
   "codemirror_mode": {
    "name": "ipython",
    "version": 3
   },
   "file_extension": ".py",
   "mimetype": "text/x-python",
   "name": "python",
   "nbconvert_exporter": "python",
   "pygments_lexer": "ipython3",
   "version": "3.11.7"
  }
 },
 "nbformat": 4,
 "nbformat_minor": 2
}
