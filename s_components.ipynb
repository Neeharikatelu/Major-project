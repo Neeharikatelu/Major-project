{
 "cells": [
  {
   "cell_type": "markdown",
   "metadata": {},
   "source": [
    "## S components "
   ]
  },
  {
   "cell_type": "code",
   "execution_count": 2,
   "metadata": {},
   "outputs": [
    {
     "name": "stdout",
     "output_type": "stream",
     "text": [
      "s-Components: [['128', '178', '219', '168', '81', '208', '76', '202', '169', '222', '53', '231', '220', '214', '218', '215', '116', '69', '176', '191', '159', '82']]\n"
     ]
    }
   ],
   "source": [
    "import json\n",
    "import networkx as nx\n",
    "\n",
    "# Load hypergraph from JSON file\n",
    "def load_hypergraph(file_path):\n",
    "    with open(file_path, 'r') as f:\n",
    "        return json.load(f)\n",
    "\n",
    "# Build s-adjacency graph\n",
    "def build_s_adjacency_graph(hypergraph, s):\n",
    "    G = nx.Graph()\n",
    "    hyperedges = list(hypergraph.keys())\n",
    "    \n",
    "    for i in range(len(hyperedges)):\n",
    "        for j in range(i + 1, len(hyperedges)):\n",
    "            edge1, edge2 = hyperedges[i], hyperedges[j]\n",
    "            common_nodes = set(hypergraph[edge1]) & set(hypergraph[edge2])\n",
    "            \n",
    "            if len(common_nodes) >= s:\n",
    "                G.add_edge(edge1, edge2)\n",
    "    \n",
    "    return G\n",
    "\n",
    "# Find s-components\n",
    "def find_s_components(G):\n",
    "    return [list(component) for component in nx.connected_components(G)]\n",
    "\n",
    "# Main function\n",
    "def compute_s_components(file_path, s):\n",
    "    hypergraph = load_hypergraph(file_path)\n",
    "    G = build_s_adjacency_graph(hypergraph, s)\n",
    "    s_components = find_s_components(G)\n",
    "    \n",
    "    return s_components\n",
    "\n",
    "# Example Usage\n",
    "file_path = r\"C:\\Users\\Neeharika Telu\\Dropbox\\Mini_clean\\hypergraph_everyday_Null_clean\\hypergraph_2018-02-26.json\"  # Replace with actual file path\n",
    "s = 2  # Minimum shared nodes to be considered adjacent\n",
    "\n",
    "s_components = compute_s_components(file_path, s)\n",
    "print(\"s-Components:\", s_components)\n"
   ]
  }
 ],
 "metadata": {
  "kernelspec": {
   "display_name": "Python 3",
   "language": "python",
   "name": "python3"
  },
  "language_info": {
   "codemirror_mode": {
    "name": "ipython",
    "version": 3
   },
   "file_extension": ".py",
   "mimetype": "text/x-python",
   "name": "python",
   "nbconvert_exporter": "python",
   "pygments_lexer": "ipython3",
   "version": "3.12.3"
  }
 },
 "nbformat": 4,
 "nbformat_minor": 2
}
