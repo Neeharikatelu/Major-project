{
 "cells": [
  {
   "cell_type": "markdown",
   "id": "25d51903",
   "metadata": {},
   "source": [
    "## Null removal"
   ]
  },
  {
   "cell_type": "code",
   "execution_count": 2,
   "id": "3a5326b3",
   "metadata": {},
   "outputs": [
    {
     "name": "stdout",
     "output_type": "stream",
     "text": [
      "Processed and saved: D:\\Desktop\\SEM 7\\Mini Project\\Filtered_Dataset\\0to999999_ERC721Transaction.csv\n",
      "Processed and saved: D:\\Desktop\\SEM 7\\Mini Project\\Filtered_Dataset\\10000000to10999999_ERC721Transaction.csv\n",
      "Processed and saved: D:\\Desktop\\SEM 7\\Mini Project\\Filtered_Dataset\\1000000to1999999_ERC721Transaction.csv\n",
      "Processed and saved: D:\\Desktop\\SEM 7\\Mini Project\\Filtered_Dataset\\11000000to11999999_ERC721Transaction.csv\n",
      "Processed and saved: D:\\Desktop\\SEM 7\\Mini Project\\Filtered_Dataset\\12000000to12999999_ERC721Transaction.csv\n",
      "Processed and saved: D:\\Desktop\\SEM 7\\Mini Project\\Filtered_Dataset\\13000000to13249999_ERC721Transaction.csv\n",
      "Processed and saved: D:\\Desktop\\SEM 7\\Mini Project\\Filtered_Dataset\\13250000to13499999_ERC721Transaction.csv\n",
      "Processed and saved: D:\\Desktop\\SEM 7\\Mini Project\\Filtered_Dataset\\13500000to13749999_ERC721Transaction.csv\n",
      "Processed and saved: D:\\Desktop\\SEM 7\\Mini Project\\Filtered_Dataset\\2000000to2999999_ERC721Transaction.csv\n",
      "Processed and saved: D:\\Desktop\\SEM 7\\Mini Project\\Filtered_Dataset\\3000000to3999999_ERC721Transaction.csv\n"
     ]
    },
    {
     "name": "stderr",
     "output_type": "stream",
     "text": [
      "C:\\Users\\Neeharika Telu\\AppData\\Local\\Temp\\ipykernel_5052\\1507212821.py:27: DtypeWarning: Columns (8) have mixed types. Specify dtype option on import or set low_memory=False.\n",
      "  df = pd.read_csv(file_path)\n"
     ]
    },
    {
     "name": "stdout",
     "output_type": "stream",
     "text": [
      "Processed and saved: D:\\Desktop\\SEM 7\\Mini Project\\Filtered_Dataset\\4000000to4999999_ERC721Transaction.csv\n"
     ]
    },
    {
     "name": "stderr",
     "output_type": "stream",
     "text": [
      "C:\\Users\\Neeharika Telu\\AppData\\Local\\Temp\\ipykernel_5052\\1507212821.py:27: DtypeWarning: Columns (8) have mixed types. Specify dtype option on import or set low_memory=False.\n",
      "  df = pd.read_csv(file_path)\n"
     ]
    },
    {
     "name": "stdout",
     "output_type": "stream",
     "text": [
      "Processed and saved: D:\\Desktop\\SEM 7\\Mini Project\\Filtered_Dataset\\5000000to5999999_ERC721Transaction.csv\n",
      "Processed and saved: D:\\Desktop\\SEM 7\\Mini Project\\Filtered_Dataset\\6000000to6999999_ERC721Transaction.csv\n",
      "Processed and saved: D:\\Desktop\\SEM 7\\Mini Project\\Filtered_Dataset\\7000000to7999999_ERC721Transaction.csv\n"
     ]
    },
    {
     "name": "stderr",
     "output_type": "stream",
     "text": [
      "C:\\Users\\Neeharika Telu\\AppData\\Local\\Temp\\ipykernel_5052\\1507212821.py:27: DtypeWarning: Columns (8) have mixed types. Specify dtype option on import or set low_memory=False.\n",
      "  df = pd.read_csv(file_path)\n"
     ]
    },
    {
     "name": "stdout",
     "output_type": "stream",
     "text": [
      "Processed and saved: D:\\Desktop\\SEM 7\\Mini Project\\Filtered_Dataset\\8000000to8999999_ERC721Transaction.csv\n",
      "Processed and saved: D:\\Desktop\\SEM 7\\Mini Project\\Filtered_Dataset\\9000000to9999999_ERC721Transaction.csv\n",
      "\n",
      "✅ All files filtered and saved successfully.\n"
     ]
    }
   ],
   "source": [
    "import os\n",
    "import pandas as pd\n",
    "\n",
    "# Define the folder paths\n",
    "DATASET_FOLDER = r\"D:\\Desktop\\SEM 7\\Mini Project\\Dataset\"\n",
    "OUTPUT_FOLDER = r\"D:\\Desktop\\SEM 7\\Mini Project\\Filtered_Dataset\"\n",
    "\n",
    "# Check if the dataset folder exists\n",
    "if not os.path.exists(DATASET_FOLDER):\n",
    "    print(f\"Folder does not exist: {DATASET_FOLDER}\")\n",
    "    exit()\n",
    "\n",
    "# Create the output folder if it doesn't exist\n",
    "os.makedirs(OUTPUT_FOLDER, exist_ok=True)\n",
    "\n",
    "# Null address to remove\n",
    "null_address = '0x0000000000000000000000000000000000000000'\n",
    "\n",
    "# List all CSV files in the dataset folder\n",
    "csv_files = [f for f in os.listdir(DATASET_FOLDER) if f.endswith(\".csv\")]\n",
    "\n",
    "# Loop through each file in the dataset folder\n",
    "for file in csv_files:\n",
    "    file_path = os.path.join(DATASET_FOLDER, file)\n",
    "    \n",
    "    # Read the CSV file into a DataFrame\n",
    "    df = pd.read_csv(file_path)\n",
    "    \n",
    "    # Clean the 'from' and 'to' columns to ensure consistent formatting\n",
    "    df['from'] = df['from'].astype(str).str.strip().str.lower()\n",
    "    df['to'] = df['to'].astype(str).str.strip().str.lower()\n",
    "    \n",
    "    # Filter out rows where either 'from' or 'to' is the null address\n",
    "    df_filtered = df[(df['from'] != null_address) & (df['to'] != null_address)]\n",
    "    \n",
    "    # Generate the output file path\n",
    "    output_file_path = os.path.join(OUTPUT_FOLDER, file)\n",
    "    \n",
    "    # Save the filtered DataFrame\n",
    "    df_filtered.to_csv(output_file_path, index=False)\n",
    "    \n",
    "    print(f\"Processed and saved: {output_file_path}\")\n",
    "\n",
    "print(\"\\n✅ All files filtered and saved successfully.\")\n"
   ]
  }
 ],
 "metadata": {
  "kernelspec": {
   "display_name": "Python 3",
   "language": "python",
   "name": "python3"
  },
  "language_info": {
   "codemirror_mode": {
    "name": "ipython",
    "version": 3
   },
   "file_extension": ".py",
   "mimetype": "text/x-python",
   "name": "python",
   "nbconvert_exporter": "python",
   "pygments_lexer": "ipython3",
   "version": "3.12.3"
  }
 },
 "nbformat": 4,
 "nbformat_minor": 5
}
