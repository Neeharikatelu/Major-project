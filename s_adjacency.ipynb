{
 "cells": [
  {
   "cell_type": "markdown",
   "metadata": {},
   "source": [
    "## s adjacency "
   ]
  },
  {
   "cell_type": "code",
   "execution_count": 2,
   "metadata": {},
   "outputs": [
    {
     "name": "stdout",
     "output_type": "stream",
     "text": [
      "s-Adjacency saved to D:\\SEM_8\\Major-project\\s_adjacency_2017-08-18.json\n"
     ]
    }
   ],
   "source": [
    "import json\n",
    "from itertools import combinations\n",
    "\n",
    "# Load the JSON file\n",
    "file_path = r\"D:\\SEM_8\\Major-project\\hypergraph_everyday_Null_clean\\hypergraph_2017-11-29.json\"\n",
    "with open(file_path, \"r\") as f:\n",
    "    hypergraph = json.load(f)\n",
    "\n",
    "# Convert token-node mappings to a dictionary\n",
    "adjacency_dict = {}\n",
    "for token, nodes in hypergraph.items():\n",
    "    adjacency_dict[token] = set(nodes)  # Convert node lists to sets for easy comparison\n",
    "\n",
    "# Compute s-adjacency\n",
    "s_adjacency = {}\n",
    "for (token1, nodes1), (token2, nodes2) in combinations(adjacency_dict.items(), 2):\n",
    "    shared_nodes = nodes1 & nodes2  # Intersection of node sets\n",
    "    shared_count = len(shared_nodes)\n",
    "    \n",
    "    if shared_count > 0:  # Only store adjacent pairs\n",
    "        s_adjacency[(token1, token2)] = shared_count\n",
    "\n",
    "# Output result\n",
    "output_file = r\"D:\\SEM_8\\Major-project\\s_adjacency_2017-08-18.json\"\n",
    "with open(output_file, \"w\") as f:\n",
    "    json.dump(s_adjacency, f, indent=4)\n",
    "\n",
    "print(f\"s-Adjacency saved to {output_file}\")\n"
   ]
  },
  {
   "cell_type": "code",
   "execution_count": null,
   "metadata": {},
   "outputs": [],
   "source": [
    "import os\n",
    "import json\n",
    "from collections import defaultdict\n",
    "\n",
    "# Input and output directories\n",
    "input_folder = r\"D:\\SEM_8\\Major-project\\hypergraph_everyday_Null_clean\"\n",
    "output_folder = r\"D:\\SEM_8\\Major-project\\s_adjacency_output\"\n",
    "os.makedirs(output_folder, exist_ok=True)\n",
    "\n",
    "# Dictionary to store s-adjacency across all files\n",
    "overall_s_adjacency = defaultdict(lambda: {'count': 0, 'shared_nodes': set()})\n",
    "\n",
    "# Process each JSON file in the folder\n",
    "for filename in os.listdir(input_folder):\n",
    "    if filename.endswith(\".json\"):\n",
    "        file_path = os.path.join(input_folder, filename)\n",
    "        \n",
    "        with open(file_path, 'r') as f:\n",
    "            data = json.load(f)\n",
    "        \n",
    "        # Convert string keys to int for processing\n",
    "        hypergraph = {int(token): set(nodes) for token, nodes in data.items()}\n",
    "        \n",
    "        tokens = list(hypergraph.keys())\n",
    "        \n",
    "        for i in range(len(tokens)):\n",
    "            for j in range(i + 1, len(tokens)):\n",
    "                token1, token2 = tokens[i], tokens[j]\n",
    "                shared_nodes = hypergraph[token1] & hypergraph[token2]\n",
    "                \n",
    "                if shared_nodes:  # Only consider if they share nodes\n",
    "                    key = tuple(sorted([token1, token2]))\n",
    "                    overall_s_adjacency[key]['count'] += 1\n",
    "                    overall_s_adjacency[key]['shared_nodes'].update(shared_nodes)\n",
    "\n",
    "# Convert shared nodes set to list for JSON storage\n",
    "final_output = {\n",
    "    str(pair): {'count': value['count'], 'shared_nodes': list(value['shared_nodes'])}\n",
    "    for pair, value in overall_s_adjacency.items()\n",
    "}\n",
    "\n",
    "# Save to output JSON file\n",
    "output_path = os.path.join(output_folder, \"overall_s_adjacency.json\")\n",
    "with open(output_path, 'w') as f:\n",
    "    json.dump(final_output, f, indent=4)\n",
    "\n",
    "print(f\"s-adjacency computation completed. Results saved to: {output_path}\")\n"
   ]
  }
 ],
 "metadata": {
  "kernelspec": {
   "display_name": "base",
   "language": "python",
   "name": "python3"
  },
  "language_info": {
   "codemirror_mode": {
    "name": "ipython",
    "version": 3
   },
   "file_extension": ".py",
   "mimetype": "text/x-python",
   "name": "python",
   "nbconvert_exporter": "python",
   "pygments_lexer": "ipython3",
   "version": "3.11.7"
  }
 },
 "nbformat": 4,
 "nbformat_minor": 2
}
